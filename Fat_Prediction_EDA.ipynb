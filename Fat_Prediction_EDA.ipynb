{
 "cells": [
  {
   "cell_type": "code",
   "execution_count": 2,
   "id": "9c391f64",
   "metadata": {},
   "outputs": [],
   "source": [
    "import pandas as pd\n",
    "import numpy as np\n",
    "import matplotlib.pyplot as plt\n",
    "import seaborn as sns\n",
    "from scipy import stats\n",
    "import scipy.stats\n",
    "from scipy.stats import chi2_contingency\n",
    "import statsmodels.api as sm\n",
    "from statsmodels.formula.api import ols\n",
    "from statsmodels.formula.api import ols\n",
    "from sklearn import model_selection\n",
    "from sklearn.model_selection import train_test_split\n",
    "from sklearn import svm\n",
    "from statsmodels.stats.multicomp import pairwise_tukeyhsd"
   ]
  },
  {
   "cell_type": "code",
   "execution_count": 3,
   "id": "6c99d13b",
   "metadata": {},
   "outputs": [],
   "source": [
    "fat=pd.read_csv(\"C:/Users/91876/Desktop/Kaggle Individual/7_Body fat/bodyfat.csv\")"
   ]
  },
  {
   "cell_type": "code",
   "execution_count": 4,
   "id": "61c838e3",
   "metadata": {},
   "outputs": [],
   "source": [
    "df= pd.DataFrame(fat)"
   ]
  },
  {
   "cell_type": "code",
   "execution_count": 5,
   "id": "dea677c4",
   "metadata": {},
   "outputs": [
    {
     "data": {
      "text/html": [
       "<div>\n",
       "<style scoped>\n",
       "    .dataframe tbody tr th:only-of-type {\n",
       "        vertical-align: middle;\n",
       "    }\n",
       "\n",
       "    .dataframe tbody tr th {\n",
       "        vertical-align: top;\n",
       "    }\n",
       "\n",
       "    .dataframe thead th {\n",
       "        text-align: right;\n",
       "    }\n",
       "</style>\n",
       "<table border=\"1\" class=\"dataframe\">\n",
       "  <thead>\n",
       "    <tr style=\"text-align: right;\">\n",
       "      <th></th>\n",
       "      <th>Density</th>\n",
       "      <th>BodyFat</th>\n",
       "      <th>Age</th>\n",
       "      <th>Weight</th>\n",
       "      <th>Height</th>\n",
       "      <th>Neck</th>\n",
       "      <th>Chest</th>\n",
       "      <th>Abdomen</th>\n",
       "      <th>Hip</th>\n",
       "      <th>Thigh</th>\n",
       "      <th>Knee</th>\n",
       "      <th>Ankle</th>\n",
       "      <th>Biceps</th>\n",
       "      <th>Forearm</th>\n",
       "      <th>Wrist</th>\n",
       "    </tr>\n",
       "  </thead>\n",
       "  <tbody>\n",
       "    <tr>\n",
       "      <th>0</th>\n",
       "      <td>1.0708</td>\n",
       "      <td>12.3</td>\n",
       "      <td>23</td>\n",
       "      <td>154.25</td>\n",
       "      <td>67.75</td>\n",
       "      <td>36.2</td>\n",
       "      <td>93.1</td>\n",
       "      <td>85.2</td>\n",
       "      <td>94.5</td>\n",
       "      <td>59.0</td>\n",
       "      <td>37.3</td>\n",
       "      <td>21.9</td>\n",
       "      <td>32.0</td>\n",
       "      <td>27.4</td>\n",
       "      <td>17.1</td>\n",
       "    </tr>\n",
       "    <tr>\n",
       "      <th>1</th>\n",
       "      <td>1.0853</td>\n",
       "      <td>6.1</td>\n",
       "      <td>22</td>\n",
       "      <td>173.25</td>\n",
       "      <td>72.25</td>\n",
       "      <td>38.5</td>\n",
       "      <td>93.6</td>\n",
       "      <td>83.0</td>\n",
       "      <td>98.7</td>\n",
       "      <td>58.7</td>\n",
       "      <td>37.3</td>\n",
       "      <td>23.4</td>\n",
       "      <td>30.5</td>\n",
       "      <td>28.9</td>\n",
       "      <td>18.2</td>\n",
       "    </tr>\n",
       "    <tr>\n",
       "      <th>2</th>\n",
       "      <td>1.0414</td>\n",
       "      <td>25.3</td>\n",
       "      <td>22</td>\n",
       "      <td>154.00</td>\n",
       "      <td>66.25</td>\n",
       "      <td>34.0</td>\n",
       "      <td>95.8</td>\n",
       "      <td>87.9</td>\n",
       "      <td>99.2</td>\n",
       "      <td>59.6</td>\n",
       "      <td>38.9</td>\n",
       "      <td>24.0</td>\n",
       "      <td>28.8</td>\n",
       "      <td>25.2</td>\n",
       "      <td>16.6</td>\n",
       "    </tr>\n",
       "    <tr>\n",
       "      <th>3</th>\n",
       "      <td>1.0751</td>\n",
       "      <td>10.4</td>\n",
       "      <td>26</td>\n",
       "      <td>184.75</td>\n",
       "      <td>72.25</td>\n",
       "      <td>37.4</td>\n",
       "      <td>101.8</td>\n",
       "      <td>86.4</td>\n",
       "      <td>101.2</td>\n",
       "      <td>60.1</td>\n",
       "      <td>37.3</td>\n",
       "      <td>22.8</td>\n",
       "      <td>32.4</td>\n",
       "      <td>29.4</td>\n",
       "      <td>18.2</td>\n",
       "    </tr>\n",
       "    <tr>\n",
       "      <th>4</th>\n",
       "      <td>1.0340</td>\n",
       "      <td>28.7</td>\n",
       "      <td>24</td>\n",
       "      <td>184.25</td>\n",
       "      <td>71.25</td>\n",
       "      <td>34.4</td>\n",
       "      <td>97.3</td>\n",
       "      <td>100.0</td>\n",
       "      <td>101.9</td>\n",
       "      <td>63.2</td>\n",
       "      <td>42.2</td>\n",
       "      <td>24.0</td>\n",
       "      <td>32.2</td>\n",
       "      <td>27.7</td>\n",
       "      <td>17.7</td>\n",
       "    </tr>\n",
       "    <tr>\n",
       "      <th>...</th>\n",
       "      <td>...</td>\n",
       "      <td>...</td>\n",
       "      <td>...</td>\n",
       "      <td>...</td>\n",
       "      <td>...</td>\n",
       "      <td>...</td>\n",
       "      <td>...</td>\n",
       "      <td>...</td>\n",
       "      <td>...</td>\n",
       "      <td>...</td>\n",
       "      <td>...</td>\n",
       "      <td>...</td>\n",
       "      <td>...</td>\n",
       "      <td>...</td>\n",
       "      <td>...</td>\n",
       "    </tr>\n",
       "    <tr>\n",
       "      <th>247</th>\n",
       "      <td>1.0736</td>\n",
       "      <td>11.0</td>\n",
       "      <td>70</td>\n",
       "      <td>134.25</td>\n",
       "      <td>67.00</td>\n",
       "      <td>34.9</td>\n",
       "      <td>89.2</td>\n",
       "      <td>83.6</td>\n",
       "      <td>88.8</td>\n",
       "      <td>49.6</td>\n",
       "      <td>34.8</td>\n",
       "      <td>21.5</td>\n",
       "      <td>25.6</td>\n",
       "      <td>25.7</td>\n",
       "      <td>18.5</td>\n",
       "    </tr>\n",
       "    <tr>\n",
       "      <th>248</th>\n",
       "      <td>1.0236</td>\n",
       "      <td>33.6</td>\n",
       "      <td>72</td>\n",
       "      <td>201.00</td>\n",
       "      <td>69.75</td>\n",
       "      <td>40.9</td>\n",
       "      <td>108.5</td>\n",
       "      <td>105.0</td>\n",
       "      <td>104.5</td>\n",
       "      <td>59.6</td>\n",
       "      <td>40.8</td>\n",
       "      <td>23.2</td>\n",
       "      <td>35.2</td>\n",
       "      <td>28.6</td>\n",
       "      <td>20.1</td>\n",
       "    </tr>\n",
       "    <tr>\n",
       "      <th>249</th>\n",
       "      <td>1.0328</td>\n",
       "      <td>29.3</td>\n",
       "      <td>72</td>\n",
       "      <td>186.75</td>\n",
       "      <td>66.00</td>\n",
       "      <td>38.9</td>\n",
       "      <td>111.1</td>\n",
       "      <td>111.5</td>\n",
       "      <td>101.7</td>\n",
       "      <td>60.3</td>\n",
       "      <td>37.3</td>\n",
       "      <td>21.5</td>\n",
       "      <td>31.3</td>\n",
       "      <td>27.2</td>\n",
       "      <td>18.0</td>\n",
       "    </tr>\n",
       "    <tr>\n",
       "      <th>250</th>\n",
       "      <td>1.0399</td>\n",
       "      <td>26.0</td>\n",
       "      <td>72</td>\n",
       "      <td>190.75</td>\n",
       "      <td>70.50</td>\n",
       "      <td>38.9</td>\n",
       "      <td>108.3</td>\n",
       "      <td>101.3</td>\n",
       "      <td>97.8</td>\n",
       "      <td>56.0</td>\n",
       "      <td>41.6</td>\n",
       "      <td>22.7</td>\n",
       "      <td>30.5</td>\n",
       "      <td>29.4</td>\n",
       "      <td>19.8</td>\n",
       "    </tr>\n",
       "    <tr>\n",
       "      <th>251</th>\n",
       "      <td>1.0271</td>\n",
       "      <td>31.9</td>\n",
       "      <td>74</td>\n",
       "      <td>207.50</td>\n",
       "      <td>70.00</td>\n",
       "      <td>40.8</td>\n",
       "      <td>112.4</td>\n",
       "      <td>108.5</td>\n",
       "      <td>107.1</td>\n",
       "      <td>59.3</td>\n",
       "      <td>42.2</td>\n",
       "      <td>24.6</td>\n",
       "      <td>33.7</td>\n",
       "      <td>30.0</td>\n",
       "      <td>20.9</td>\n",
       "    </tr>\n",
       "  </tbody>\n",
       "</table>\n",
       "<p>252 rows × 15 columns</p>\n",
       "</div>"
      ],
      "text/plain": [
       "     Density  BodyFat  Age  Weight  Height  Neck  Chest  Abdomen    Hip  \\\n",
       "0     1.0708     12.3   23  154.25   67.75  36.2   93.1     85.2   94.5   \n",
       "1     1.0853      6.1   22  173.25   72.25  38.5   93.6     83.0   98.7   \n",
       "2     1.0414     25.3   22  154.00   66.25  34.0   95.8     87.9   99.2   \n",
       "3     1.0751     10.4   26  184.75   72.25  37.4  101.8     86.4  101.2   \n",
       "4     1.0340     28.7   24  184.25   71.25  34.4   97.3    100.0  101.9   \n",
       "..       ...      ...  ...     ...     ...   ...    ...      ...    ...   \n",
       "247   1.0736     11.0   70  134.25   67.00  34.9   89.2     83.6   88.8   \n",
       "248   1.0236     33.6   72  201.00   69.75  40.9  108.5    105.0  104.5   \n",
       "249   1.0328     29.3   72  186.75   66.00  38.9  111.1    111.5  101.7   \n",
       "250   1.0399     26.0   72  190.75   70.50  38.9  108.3    101.3   97.8   \n",
       "251   1.0271     31.9   74  207.50   70.00  40.8  112.4    108.5  107.1   \n",
       "\n",
       "     Thigh  Knee  Ankle  Biceps  Forearm  Wrist  \n",
       "0     59.0  37.3   21.9    32.0     27.4   17.1  \n",
       "1     58.7  37.3   23.4    30.5     28.9   18.2  \n",
       "2     59.6  38.9   24.0    28.8     25.2   16.6  \n",
       "3     60.1  37.3   22.8    32.4     29.4   18.2  \n",
       "4     63.2  42.2   24.0    32.2     27.7   17.7  \n",
       "..     ...   ...    ...     ...      ...    ...  \n",
       "247   49.6  34.8   21.5    25.6     25.7   18.5  \n",
       "248   59.6  40.8   23.2    35.2     28.6   20.1  \n",
       "249   60.3  37.3   21.5    31.3     27.2   18.0  \n",
       "250   56.0  41.6   22.7    30.5     29.4   19.8  \n",
       "251   59.3  42.2   24.6    33.7     30.0   20.9  \n",
       "\n",
       "[252 rows x 15 columns]"
      ]
     },
     "execution_count": 5,
     "metadata": {},
     "output_type": "execute_result"
    }
   ],
   "source": [
    "df"
   ]
  },
  {
   "cell_type": "code",
   "execution_count": 6,
   "id": "1e0d5ef2",
   "metadata": {},
   "outputs": [
    {
     "data": {
      "text/html": [
       "<div>\n",
       "<style scoped>\n",
       "    .dataframe tbody tr th:only-of-type {\n",
       "        vertical-align: middle;\n",
       "    }\n",
       "\n",
       "    .dataframe tbody tr th {\n",
       "        vertical-align: top;\n",
       "    }\n",
       "\n",
       "    .dataframe thead th {\n",
       "        text-align: right;\n",
       "    }\n",
       "</style>\n",
       "<table border=\"1\" class=\"dataframe\">\n",
       "  <thead>\n",
       "    <tr style=\"text-align: right;\">\n",
       "      <th></th>\n",
       "      <th>Density</th>\n",
       "      <th>BodyFat</th>\n",
       "      <th>Age</th>\n",
       "      <th>Weight</th>\n",
       "      <th>Height</th>\n",
       "      <th>Neck</th>\n",
       "      <th>Chest</th>\n",
       "      <th>Abdomen</th>\n",
       "      <th>Hip</th>\n",
       "      <th>Thigh</th>\n",
       "      <th>Knee</th>\n",
       "      <th>Ankle</th>\n",
       "      <th>Biceps</th>\n",
       "      <th>Forearm</th>\n",
       "      <th>Wrist</th>\n",
       "    </tr>\n",
       "  </thead>\n",
       "  <tbody>\n",
       "    <tr>\n",
       "      <th>count</th>\n",
       "      <td>252.000000</td>\n",
       "      <td>252.000000</td>\n",
       "      <td>252.000000</td>\n",
       "      <td>252.000000</td>\n",
       "      <td>252.000000</td>\n",
       "      <td>252.000000</td>\n",
       "      <td>252.000000</td>\n",
       "      <td>252.000000</td>\n",
       "      <td>252.000000</td>\n",
       "      <td>252.000000</td>\n",
       "      <td>252.000000</td>\n",
       "      <td>252.000000</td>\n",
       "      <td>252.000000</td>\n",
       "      <td>252.000000</td>\n",
       "      <td>252.000000</td>\n",
       "    </tr>\n",
       "    <tr>\n",
       "      <th>mean</th>\n",
       "      <td>1.055574</td>\n",
       "      <td>19.150794</td>\n",
       "      <td>44.884921</td>\n",
       "      <td>178.924405</td>\n",
       "      <td>70.148810</td>\n",
       "      <td>37.992063</td>\n",
       "      <td>100.824206</td>\n",
       "      <td>92.555952</td>\n",
       "      <td>99.904762</td>\n",
       "      <td>59.405952</td>\n",
       "      <td>38.590476</td>\n",
       "      <td>23.102381</td>\n",
       "      <td>32.273413</td>\n",
       "      <td>28.663889</td>\n",
       "      <td>18.229762</td>\n",
       "    </tr>\n",
       "    <tr>\n",
       "      <th>std</th>\n",
       "      <td>0.019031</td>\n",
       "      <td>8.368740</td>\n",
       "      <td>12.602040</td>\n",
       "      <td>29.389160</td>\n",
       "      <td>3.662856</td>\n",
       "      <td>2.430913</td>\n",
       "      <td>8.430476</td>\n",
       "      <td>10.783077</td>\n",
       "      <td>7.164058</td>\n",
       "      <td>5.249952</td>\n",
       "      <td>2.411805</td>\n",
       "      <td>1.694893</td>\n",
       "      <td>3.021274</td>\n",
       "      <td>2.020691</td>\n",
       "      <td>0.933585</td>\n",
       "    </tr>\n",
       "    <tr>\n",
       "      <th>min</th>\n",
       "      <td>0.995000</td>\n",
       "      <td>0.000000</td>\n",
       "      <td>22.000000</td>\n",
       "      <td>118.500000</td>\n",
       "      <td>29.500000</td>\n",
       "      <td>31.100000</td>\n",
       "      <td>79.300000</td>\n",
       "      <td>69.400000</td>\n",
       "      <td>85.000000</td>\n",
       "      <td>47.200000</td>\n",
       "      <td>33.000000</td>\n",
       "      <td>19.100000</td>\n",
       "      <td>24.800000</td>\n",
       "      <td>21.000000</td>\n",
       "      <td>15.800000</td>\n",
       "    </tr>\n",
       "    <tr>\n",
       "      <th>25%</th>\n",
       "      <td>1.041400</td>\n",
       "      <td>12.475000</td>\n",
       "      <td>35.750000</td>\n",
       "      <td>159.000000</td>\n",
       "      <td>68.250000</td>\n",
       "      <td>36.400000</td>\n",
       "      <td>94.350000</td>\n",
       "      <td>84.575000</td>\n",
       "      <td>95.500000</td>\n",
       "      <td>56.000000</td>\n",
       "      <td>36.975000</td>\n",
       "      <td>22.000000</td>\n",
       "      <td>30.200000</td>\n",
       "      <td>27.300000</td>\n",
       "      <td>17.600000</td>\n",
       "    </tr>\n",
       "    <tr>\n",
       "      <th>50%</th>\n",
       "      <td>1.054900</td>\n",
       "      <td>19.200000</td>\n",
       "      <td>43.000000</td>\n",
       "      <td>176.500000</td>\n",
       "      <td>70.000000</td>\n",
       "      <td>38.000000</td>\n",
       "      <td>99.650000</td>\n",
       "      <td>90.950000</td>\n",
       "      <td>99.300000</td>\n",
       "      <td>59.000000</td>\n",
       "      <td>38.500000</td>\n",
       "      <td>22.800000</td>\n",
       "      <td>32.050000</td>\n",
       "      <td>28.700000</td>\n",
       "      <td>18.300000</td>\n",
       "    </tr>\n",
       "    <tr>\n",
       "      <th>75%</th>\n",
       "      <td>1.070400</td>\n",
       "      <td>25.300000</td>\n",
       "      <td>54.000000</td>\n",
       "      <td>197.000000</td>\n",
       "      <td>72.250000</td>\n",
       "      <td>39.425000</td>\n",
       "      <td>105.375000</td>\n",
       "      <td>99.325000</td>\n",
       "      <td>103.525000</td>\n",
       "      <td>62.350000</td>\n",
       "      <td>39.925000</td>\n",
       "      <td>24.000000</td>\n",
       "      <td>34.325000</td>\n",
       "      <td>30.000000</td>\n",
       "      <td>18.800000</td>\n",
       "    </tr>\n",
       "    <tr>\n",
       "      <th>max</th>\n",
       "      <td>1.108900</td>\n",
       "      <td>47.500000</td>\n",
       "      <td>81.000000</td>\n",
       "      <td>363.150000</td>\n",
       "      <td>77.750000</td>\n",
       "      <td>51.200000</td>\n",
       "      <td>136.200000</td>\n",
       "      <td>148.100000</td>\n",
       "      <td>147.700000</td>\n",
       "      <td>87.300000</td>\n",
       "      <td>49.100000</td>\n",
       "      <td>33.900000</td>\n",
       "      <td>45.000000</td>\n",
       "      <td>34.900000</td>\n",
       "      <td>21.400000</td>\n",
       "    </tr>\n",
       "  </tbody>\n",
       "</table>\n",
       "</div>"
      ],
      "text/plain": [
       "          Density     BodyFat         Age      Weight      Height        Neck  \\\n",
       "count  252.000000  252.000000  252.000000  252.000000  252.000000  252.000000   \n",
       "mean     1.055574   19.150794   44.884921  178.924405   70.148810   37.992063   \n",
       "std      0.019031    8.368740   12.602040   29.389160    3.662856    2.430913   \n",
       "min      0.995000    0.000000   22.000000  118.500000   29.500000   31.100000   \n",
       "25%      1.041400   12.475000   35.750000  159.000000   68.250000   36.400000   \n",
       "50%      1.054900   19.200000   43.000000  176.500000   70.000000   38.000000   \n",
       "75%      1.070400   25.300000   54.000000  197.000000   72.250000   39.425000   \n",
       "max      1.108900   47.500000   81.000000  363.150000   77.750000   51.200000   \n",
       "\n",
       "            Chest     Abdomen         Hip       Thigh        Knee       Ankle  \\\n",
       "count  252.000000  252.000000  252.000000  252.000000  252.000000  252.000000   \n",
       "mean   100.824206   92.555952   99.904762   59.405952   38.590476   23.102381   \n",
       "std      8.430476   10.783077    7.164058    5.249952    2.411805    1.694893   \n",
       "min     79.300000   69.400000   85.000000   47.200000   33.000000   19.100000   \n",
       "25%     94.350000   84.575000   95.500000   56.000000   36.975000   22.000000   \n",
       "50%     99.650000   90.950000   99.300000   59.000000   38.500000   22.800000   \n",
       "75%    105.375000   99.325000  103.525000   62.350000   39.925000   24.000000   \n",
       "max    136.200000  148.100000  147.700000   87.300000   49.100000   33.900000   \n",
       "\n",
       "           Biceps     Forearm       Wrist  \n",
       "count  252.000000  252.000000  252.000000  \n",
       "mean    32.273413   28.663889   18.229762  \n",
       "std      3.021274    2.020691    0.933585  \n",
       "min     24.800000   21.000000   15.800000  \n",
       "25%     30.200000   27.300000   17.600000  \n",
       "50%     32.050000   28.700000   18.300000  \n",
       "75%     34.325000   30.000000   18.800000  \n",
       "max     45.000000   34.900000   21.400000  "
      ]
     },
     "execution_count": 6,
     "metadata": {},
     "output_type": "execute_result"
    }
   ],
   "source": [
    "df.describe()"
   ]
  },
  {
   "cell_type": "code",
   "execution_count": 7,
   "id": "7f944cb4",
   "metadata": {},
   "outputs": [
    {
     "name": "stdout",
     "output_type": "stream",
     "text": [
      "<class 'pandas.core.frame.DataFrame'>\n",
      "RangeIndex: 252 entries, 0 to 251\n",
      "Data columns (total 15 columns):\n",
      " #   Column   Non-Null Count  Dtype  \n",
      "---  ------   --------------  -----  \n",
      " 0   Density  252 non-null    float64\n",
      " 1   BodyFat  252 non-null    float64\n",
      " 2   Age      252 non-null    int64  \n",
      " 3   Weight   252 non-null    float64\n",
      " 4   Height   252 non-null    float64\n",
      " 5   Neck     252 non-null    float64\n",
      " 6   Chest    252 non-null    float64\n",
      " 7   Abdomen  252 non-null    float64\n",
      " 8   Hip      252 non-null    float64\n",
      " 9   Thigh    252 non-null    float64\n",
      " 10  Knee     252 non-null    float64\n",
      " 11  Ankle    252 non-null    float64\n",
      " 12  Biceps   252 non-null    float64\n",
      " 13  Forearm  252 non-null    float64\n",
      " 14  Wrist    252 non-null    float64\n",
      "dtypes: float64(14), int64(1)\n",
      "memory usage: 29.7 KB\n"
     ]
    }
   ],
   "source": [
    "df.info()"
   ]
  },
  {
   "cell_type": "code",
   "execution_count": 8,
   "id": "2ac61aca",
   "metadata": {},
   "outputs": [
    {
     "data": {
      "text/plain": [
       "Density    0\n",
       "BodyFat    0\n",
       "Age        0\n",
       "Weight     0\n",
       "Height     0\n",
       "Neck       0\n",
       "Chest      0\n",
       "Abdomen    0\n",
       "Hip        0\n",
       "Thigh      0\n",
       "Knee       0\n",
       "Ankle      0\n",
       "Biceps     0\n",
       "Forearm    0\n",
       "Wrist      0\n",
       "dtype: int64"
      ]
     },
     "execution_count": 8,
     "metadata": {},
     "output_type": "execute_result"
    }
   ],
   "source": [
    "df.isnull().sum()"
   ]
  },
  {
   "cell_type": "code",
   "execution_count": 9,
   "id": "7ba21341",
   "metadata": {},
   "outputs": [
    {
     "data": {
      "text/plain": [
       "(252, 15)"
      ]
     },
     "execution_count": 9,
     "metadata": {},
     "output_type": "execute_result"
    }
   ],
   "source": [
    "df.shape"
   ]
  },
  {
   "cell_type": "code",
   "execution_count": 10,
   "id": "6dfe8f30",
   "metadata": {},
   "outputs": [
    {
     "data": {
      "image/png": "[encoded data removed]",
      "text/plain": [
       "<Figure size 720x1008 with 16 Axes>"
      ]
     },
     "metadata": {
      "needs_background": "light"
     },
     "output_type": "display_data"
    }
   ],
   "source": [
    "df.hist(figsize=(10,14));"
   ]
  },
  {
   "cell_type": "markdown",
   "id": "7f5842b2",
   "metadata": {},
   "source": [
    "# Exploratory Data Analysis(EDA)"
   ]
  },
  {
   "cell_type": "code",
   "execution_count": 11,
   "id": "876d2b08",
   "metadata": {},
   "outputs": [
    {
     "data": {
      "text/plain": [
       "Index(['Density', 'BodyFat', 'Age', 'Weight', 'Height', 'Neck', 'Chest',\n",
       "       'Abdomen', 'Hip', 'Thigh', 'Knee', 'Ankle', 'Biceps', 'Forearm',\n",
       "       'Wrist'],\n",
       "      dtype='object')"
      ]
     },
     "execution_count": 11,
     "metadata": {},
     "output_type": "execute_result"
    }
   ],
   "source": [
    "df.columns"
   ]
  },
  {
   "cell_type": "markdown",
   "id": "69bf9587",
   "metadata": {},
   "source": [
    "# BodyFat"
   ]
  },
  {
   "cell_type": "markdown",
   "id": "c74a15ff",
   "metadata": {},
   "source": [
    "## it is continuous variable:target variable"
   ]
  },
  {
   "cell_type": "code",
   "execution_count": 12,
   "id": "0ffe1691",
   "metadata": {},
   "outputs": [
    {
     "data": {
      "text/plain": [
       "20.4    4\n",
       "9.4     3\n",
       "14.9    3\n",
       "25.8    3\n",
       "16.5    3\n",
       "       ..\n",
       "15.1    1\n",
       "23.3    1\n",
       "32.0    1\n",
       "29.3    1\n",
       "30.4    1\n",
       "Name: BodyFat, Length: 176, dtype: int64"
      ]
     },
     "execution_count": 12,
     "metadata": {},
     "output_type": "execute_result"
    }
   ],
   "source": [
    "df.BodyFat.value_counts()"
   ]
  },
  {
   "cell_type": "code",
   "execution_count": 13,
   "id": "6b69bd0b",
   "metadata": {},
   "outputs": [
    {
     "data": {
      "text/plain": [
       "count    252.000000\n",
       "mean      19.150794\n",
       "std        8.368740\n",
       "min        0.000000\n",
       "25%       12.475000\n",
       "50%       19.200000\n",
       "75%       25.300000\n",
       "max       47.500000\n",
       "Name: BodyFat, dtype: float64"
      ]
     },
     "execution_count": 13,
     "metadata": {},
     "output_type": "execute_result"
    }
   ],
   "source": [
    "df.BodyFat.describe()"
   ]
  },
  {
   "cell_type": "code",
   "execution_count": 14,
   "id": "e8f64137",
   "metadata": {},
   "outputs": [
    {
     "data": {
      "text/plain": [
       "0"
      ]
     },
     "execution_count": 14,
     "metadata": {},
     "output_type": "execute_result"
    }
   ],
   "source": [
    "df.BodyFat.isnull().sum()"
   ]
  },
  {
   "cell_type": "code",
   "execution_count": 15,
   "id": "103a9631",
   "metadata": {},
   "outputs": [
    {
     "name": "stderr",
     "output_type": "stream",
     "text": [
      "C:\\ProgramData\\Anaconda3\\lib\\site-packages\\seaborn\\distributions.py:2557: FutureWarning: `distplot` is a deprecated function and will be removed in a future version. Please adapt your code to use either `displot` (a figure-level function with similar flexibility) or `histplot` (an axes-level function for histograms).\n",
      "  warnings.warn(msg, FutureWarning)\n"
     ]
    },
    {
     "data": {
      "text/plain": [
       "Text(0.5, 1.0, 'Histogram of BodyFat')"
      ]
     },
     "execution_count": 15,
     "metadata": {},
     "output_type": "execute_result"
    },
    {
     "data": {
      "image/png": "[encoded data removed]",
      "text/plain": [
       "<Figure size 432x288 with 1 Axes>"
      ]
     },
     "metadata": {
      "needs_background": "light"
     },
     "output_type": "display_data"
    }
   ],
   "source": [
    "#Histogram\n",
    "sns.distplot(df.BodyFat, color = 'red')\n",
    "plt.xlabel('BodyFat')\n",
    "plt.title('Histogram of BodyFat')"
   ]
  },
  {
   "cell_type": "code",
   "execution_count": 16,
   "id": "b219ff21",
   "metadata": {},
   "outputs": [
    {
     "data": {
      "text/plain": [
       "Text(0.5, 1.0, 'Boxplot of BodyFat')"
      ]
     },
     "execution_count": 16,
     "metadata": {},
     "output_type": "execute_result"
    },
    {
     "data": {
      "image/png": "[encoded data removed]",
      "text/plain": [
       "<Figure size 432x288 with 1 Axes>"
      ]
     },
     "metadata": {
      "needs_background": "light"
     },
     "output_type": "display_data"
    }
   ],
   "source": [
    "#Boxplot\n",
    "plt.boxplot(df['BodyFat'],1,'rs',1)\n",
    "plt.xlabel('BodyFat')\n",
    "plt.ylabel('counts')\n",
    "plt.title('Boxplot of BodyFat')"
   ]
  },
  {
   "cell_type": "code",
   "execution_count": 17,
   "id": "94a4369e",
   "metadata": {},
   "outputs": [
    {
     "data": {
      "text/plain": [
       "12.825000000000001"
      ]
     },
     "execution_count": 17,
     "metadata": {},
     "output_type": "execute_result"
    }
   ],
   "source": [
    "# Outliers Count\n",
    "IQR = df['BodyFat'].quantile(0.75) - df['BodyFat'].quantile(0.25)\n",
    "IQR"
   ]
  },
  {
   "cell_type": "code",
   "execution_count": 18,
   "id": "94b49ebb",
   "metadata": {},
   "outputs": [
    {
     "data": {
      "text/plain": [
       "44.5375"
      ]
     },
     "execution_count": 18,
     "metadata": {},
     "output_type": "execute_result"
    }
   ],
   "source": [
    "UL = df['BodyFat'].quantile(0.75) + (1.5*IQR)\n",
    "UL"
   ]
  },
  {
   "cell_type": "code",
   "execution_count": 19,
   "id": "5f29d809",
   "metadata": {},
   "outputs": [
    {
     "data": {
      "text/plain": [
       "1"
      ]
     },
     "execution_count": 19,
     "metadata": {},
     "output_type": "execute_result"
    }
   ],
   "source": [
    "df.BodyFat[(df.BodyFat > UL)].value_counts().sum()"
   ]
  },
  {
   "cell_type": "code",
   "execution_count": 20,
   "id": "d4d73d23",
   "metadata": {},
   "outputs": [],
   "source": [
    "df.BodyFat = np.where(df.BodyFat > UL, UL, df.BodyFat)"
   ]
  },
  {
   "cell_type": "code",
   "execution_count": 21,
   "id": "bc3f1bc5",
   "metadata": {},
   "outputs": [
    {
     "data": {
      "text/plain": [
       "0"
      ]
     },
     "execution_count": 21,
     "metadata": {},
     "output_type": "execute_result"
    }
   ],
   "source": [
    "df.BodyFat[(df.BodyFat > UL)].value_counts().sum()"
   ]
  },
  {
   "cell_type": "code",
   "execution_count": 22,
   "id": "0cca4d17",
   "metadata": {},
   "outputs": [
    {
     "data": {
      "text/plain": [
       "Text(0.5, 1.0, 'Boxplot of BodyFat')"
      ]
     },
     "execution_count": 22,
     "metadata": {},
     "output_type": "execute_result"
    },
    {
     "data": {
      "image/png": "[encoded data removed]",
      "text/plain": [
       "<Figure size 432x288 with 1 Axes>"
      ]
     },
     "metadata": {
      "needs_background": "light"
     },
     "output_type": "display_data"
    }
   ],
   "source": [
    "#Boxplot after treatment\n",
    "plt.boxplot(df['BodyFat'],1,'rs',1)\n",
    "plt.xlabel('BodyFat')\n",
    "plt.ylabel('counts')\n",
    "plt.title('Boxplot of BodyFat')"
   ]
  },
  {
   "cell_type": "markdown",
   "id": "c1b2b577",
   "metadata": {},
   "source": [
    "### 1- Density"
   ]
  },
  {
   "cell_type": "code",
   "execution_count": 23,
   "id": "9cc90c5c",
   "metadata": {},
   "outputs": [
    {
     "data": {
      "text/plain": [
       "0"
      ]
     },
     "execution_count": 23,
     "metadata": {},
     "output_type": "execute_result"
    }
   ],
   "source": [
    "df.Density.isnull().sum()"
   ]
  },
  {
   "cell_type": "code",
   "execution_count": 24,
   "id": "be1d1c87",
   "metadata": {},
   "outputs": [
    {
     "data": {
      "text/plain": [
       "0.9950    1\n",
       "1.0101    1\n",
       "1.0140    1\n",
       "1.0180    1\n",
       "1.0202    1\n",
       "         ..\n",
       "1.0911    1\n",
       "1.0926    1\n",
       "1.0983    1\n",
       "1.0991    1\n",
       "1.1089    1\n",
       "Name: Density, Length: 218, dtype: int64"
      ]
     },
     "execution_count": 24,
     "metadata": {},
     "output_type": "execute_result"
    }
   ],
   "source": [
    "df.Density.value_counts().sort_index()"
   ]
  },
  {
   "cell_type": "code",
   "execution_count": 25,
   "id": "9e5192e5",
   "metadata": {},
   "outputs": [
    {
     "data": {
      "text/plain": [
       "count    252.000000\n",
       "mean       1.055574\n",
       "std        0.019031\n",
       "min        0.995000\n",
       "25%        1.041400\n",
       "50%        1.054900\n",
       "75%        1.070400\n",
       "max        1.108900\n",
       "Name: Density, dtype: float64"
      ]
     },
     "execution_count": 25,
     "metadata": {},
     "output_type": "execute_result"
    }
   ],
   "source": [
    "df.Density.describe()"
   ]
  },
  {
   "cell_type": "code",
   "execution_count": 26,
   "id": "aa5c062f",
   "metadata": {},
   "outputs": [
    {
     "name": "stderr",
     "output_type": "stream",
     "text": [
      "C:\\ProgramData\\Anaconda3\\lib\\site-packages\\seaborn\\distributions.py:2557: FutureWarning: `distplot` is a deprecated function and will be removed in a future version. Please adapt your code to use either `displot` (a figure-level function with similar flexibility) or `histplot` (an axes-level function for histograms).\n",
      "  warnings.warn(msg, FutureWarning)\n"
     ]
    },
    {
     "data": {
      "text/plain": [
       "Text(0.5, 1.0, 'Histogram of Density')"
      ]
     },
     "execution_count": 26,
     "metadata": {},
     "output_type": "execute_result"
    },
    {
     "data": {
      "image/png": "[encoded data removed]",
      "text/plain": [
       "<Figure size 432x288 with 1 Axes>"
      ]
     },
     "metadata": {
      "needs_background": "light"
     },
     "output_type": "display_data"
    }
   ],
   "source": [
    "#Histogram\n",
    "sns.distplot(df.Density, color = 'red')\n",
    "plt.xlabel('Density')\n",
    "plt.title('Histogram of Density')"
   ]
  },
  {
   "cell_type": "code",
   "execution_count": 27,
   "id": "2a7efe92",
   "metadata": {},
   "outputs": [
    {
     "data": {
      "text/plain": [
       "Text(0.5, 1.0, 'Boxplot of Density')"
      ]
     },
     "execution_count": 27,
     "metadata": {},
     "output_type": "execute_result"
    },
    {
     "data": {
      "image/png": "[encoded data removed]",
      "text/plain": [
       "<Figure size 432x288 with 1 Axes>"
      ]
     },
     "metadata": {
      "needs_background": "light"
     },
     "output_type": "display_data"
    }
   ],
   "source": [
    "#Boxplot\n",
    "plt.boxplot(df['Density'],1,'rs',1)\n",
    "plt.xlabel('Density')\n",
    "plt.ylabel('counts')\n",
    "plt.title('Boxplot of Density')"
   ]
  },
  {
   "cell_type": "code",
   "execution_count": 30,
   "id": "528c4ede",
   "metadata": {},
   "outputs": [
    {
     "data": {
      "text/plain": [
       "0.028999999999999915"
      ]
     },
     "execution_count": 30,
     "metadata": {},
     "output_type": "execute_result"
    }
   ],
   "source": [
    "# Outliers Count\n",
    "IQR1 = df['Density'].quantile(0.75) - df['Density'].quantile(0.25)\n",
    "IQR1"
   ]
  },
  {
   "cell_type": "code",
   "execution_count": 36,
   "id": "b6d4c484",
   "metadata": {},
   "outputs": [
    {
     "data": {
      "text/plain": [
       "0.9979000000000002"
      ]
     },
     "execution_count": 36,
     "metadata": {},
     "output_type": "execute_result"
    }
   ],
   "source": [
    "LL1 = df['Density'].quantile(0.25) - (1.5*IQR1)\n",
    "LL1"
   ]
  },
  {
   "cell_type": "code",
   "execution_count": 37,
   "id": "bd784de0",
   "metadata": {},
   "outputs": [
    {
     "data": {
      "text/plain": [
       "1"
      ]
     },
     "execution_count": 37,
     "metadata": {},
     "output_type": "execute_result"
    }
   ],
   "source": [
    "df.Density[(df.Density < LL1)].value_counts().sum()"
   ]
  },
  {
   "cell_type": "code",
   "execution_count": 38,
   "id": "69166e59",
   "metadata": {},
   "outputs": [],
   "source": [
    "df.Density = np.where(df.Density < LL1, LL1, df.Density)"
   ]
  },
  {
   "cell_type": "code",
   "execution_count": 39,
   "id": "0443b219",
   "metadata": {},
   "outputs": [
    {
     "data": {
      "text/plain": [
       "0"
      ]
     },
     "execution_count": 39,
     "metadata": {},
     "output_type": "execute_result"
    }
   ],
   "source": [
    "df.Density[(df.Density < LL1)].value_counts().sum()"
   ]
  },
  {
   "cell_type": "code",
   "execution_count": 40,
   "id": "884d2fbd",
   "metadata": {
    "scrolled": true
   },
   "outputs": [
    {
     "data": {
      "text/plain": [
       "Text(0.5, 1.0, 'Boxplot of Density')"
      ]
     },
     "execution_count": 40,
     "metadata": {},
     "output_type": "execute_result"
    },
    {
     "data": {
      "image/png": "[encoded data removed]",
      "text/plain": [
       "<Figure size 432x288 with 1 Axes>"
      ]
     },
     "metadata": {
      "needs_background": "light"
     },
     "output_type": "display_data"
    }
   ],
   "source": [
    "#Boxplot after treatment\n",
    "plt.boxplot(df['Density'],1,'rs',1)\n",
    "plt.xlabel('Density')\n",
    "plt.ylabel('counts')\n",
    "plt.title('Boxplot of Density')"
   ]
  },
  {
   "cell_type": "code",
   "execution_count": 41,
   "id": "9bb615e8",
   "metadata": {},
   "outputs": [],
   "source": [
    "from scipy.stats import pearsonr"
   ]
  },
  {
   "cell_type": "code",
   "execution_count": 83,
   "id": "0a7cb5f1",
   "metadata": {},
   "outputs": [],
   "source": [
    "# Convert dataframe into series\n",
    "list1=df[\"Density\"]\n",
    "list2=df[\"BodyFat\"]"
   ]
  },
  {
   "cell_type": "code",
   "execution_count": 84,
   "id": "3b6561cb",
   "metadata": {},
   "outputs": [
    {
     "name": "stdout",
     "output_type": "stream",
     "text": [
      "Pearsons correlation: -0.988\n"
     ]
    }
   ],
   "source": [
    "# Apply the pearsonr()\n",
    "corr, _ = pearsonr(list1, list2)\n",
    "print('Pearsons correlation: %.3f' % corr)"
   ]
  },
  {
   "cell_type": "markdown",
   "id": "d5eda331",
   "metadata": {},
   "source": [
    "### Pearson correlation is: -0.988\n"
   ]
  },
  {
   "cell_type": "code",
   "execution_count": 33,
   "id": "6c4d6d34",
   "metadata": {},
   "outputs": [
    {
     "data": {
      "text/plain": [
       "Index(['Density', 'BodyFat', 'Age', 'Weight', 'Height', 'Neck', 'Chest',\n",
       "       'Abdomen', 'Hip', 'Thigh', 'Knee', 'Ankle', 'Biceps', 'Forearm',\n",
       "       'Wrist'],\n",
       "      dtype='object')"
      ]
     },
     "execution_count": 33,
     "metadata": {},
     "output_type": "execute_result"
    }
   ],
   "source": [
    "fat.columns"
   ]
  },
  {
   "cell_type": "markdown",
   "id": "609a0afd",
   "metadata": {},
   "source": [
    "### 2- Age"
   ]
  },
  {
   "cell_type": "code",
   "execution_count": 44,
   "id": "3864fd15",
   "metadata": {},
   "outputs": [
    {
     "data": {
      "text/plain": [
       "array([17, 13, 12, 11, 10,  9,  8,  7,  6,  5,  4,  3,  2,  1],\n",
       "      dtype=int64)"
      ]
     },
     "execution_count": 44,
     "metadata": {},
     "output_type": "execute_result"
    }
   ],
   "source": [
    "df.Age.value_counts().unique()"
   ]
  },
  {
   "cell_type": "code",
   "execution_count": 45,
   "id": "3529ec93",
   "metadata": {},
   "outputs": [
    {
     "data": {
      "text/plain": [
       "count    252.000000\n",
       "mean      44.884921\n",
       "std       12.602040\n",
       "min       22.000000\n",
       "25%       35.750000\n",
       "50%       43.000000\n",
       "75%       54.000000\n",
       "max       81.000000\n",
       "Name: Age, dtype: float64"
      ]
     },
     "execution_count": 45,
     "metadata": {},
     "output_type": "execute_result"
    }
   ],
   "source": [
    "df.Age.describe()"
   ]
  },
  {
   "cell_type": "code",
   "execution_count": 46,
   "id": "f416ddce",
   "metadata": {},
   "outputs": [
    {
     "data": {
      "text/plain": [
       "0"
      ]
     },
     "execution_count": 46,
     "metadata": {},
     "output_type": "execute_result"
    }
   ],
   "source": [
    "df.Age.isnull().sum()"
   ]
  },
  {
   "cell_type": "code",
   "execution_count": 48,
   "id": "42c7e4b4",
   "metadata": {},
   "outputs": [
    {
     "name": "stderr",
     "output_type": "stream",
     "text": [
      "C:\\ProgramData\\Anaconda3\\lib\\site-packages\\seaborn\\distributions.py:2557: FutureWarning: `distplot` is a deprecated function and will be removed in a future version. Please adapt your code to use either `displot` (a figure-level function with similar flexibility) or `histplot` (an axes-level function for histograms).\n",
      "  warnings.warn(msg, FutureWarning)\n"
     ]
    },
    {
     "data": {
      "text/plain": [
       "Text(0.5, 1.0, 'Histogram of Age')"
      ]
     },
     "execution_count": 48,
     "metadata": {},
     "output_type": "execute_result"
    },
    {
     "data": {
      "image/png": "[encoded data removed]",
      "text/plain": [
       "<Figure size 432x288 with 1 Axes>"
      ]
     },
     "metadata": {
      "needs_background": "light"
     },
     "output_type": "display_data"
    }
   ],
   "source": [
    "#Histogram\n",
    "sns.distplot(df.Age, color = 'red')\n",
    "plt.xlabel('Age')\n",
    "plt.title('Histogram of Age')"
   ]
  },
  {
   "cell_type": "code",
   "execution_count": 49,
   "id": "d171bad7",
   "metadata": {},
   "outputs": [
    {
     "data": {
      "text/plain": [
       "Text(0.5, 1.0, 'Boxplot of Age')"
      ]
     },
     "execution_count": 49,
     "metadata": {},
     "output_type": "execute_result"
    },
    {
     "data": {
      "image/png": "[encoded data removed]",
      "text/plain": [
       "<Figure size 432x288 with 1 Axes>"
      ]
     },
     "metadata": {
      "needs_background": "light"
     },
     "output_type": "display_data"
    }
   ],
   "source": [
    "#Boxplot\n",
    "plt.boxplot(df['Age'],1,'rs',1)\n",
    "plt.xlabel('Age')\n",
    "plt.ylabel('counts')\n",
    "plt.title('Boxplot of Age')"
   ]
  },
  {
   "cell_type": "code",
   "execution_count": 82,
   "id": "b8c58341",
   "metadata": {},
   "outputs": [
    {
     "data": {
      "text/html": [
       "<div>\n",
       "<style scoped>\n",
       "    .dataframe tbody tr th:only-of-type {\n",
       "        vertical-align: middle;\n",
       "    }\n",
       "\n",
       "    .dataframe tbody tr th {\n",
       "        vertical-align: top;\n",
       "    }\n",
       "\n",
       "    .dataframe thead th {\n",
       "        text-align: right;\n",
       "    }\n",
       "</style>\n",
       "<table border=\"1\" class=\"dataframe\">\n",
       "  <thead>\n",
       "    <tr style=\"text-align: right;\">\n",
       "      <th></th>\n",
       "      <th>df</th>\n",
       "      <th>sum_sq</th>\n",
       "      <th>mean_sq</th>\n",
       "      <th>F</th>\n",
       "      <th>PR(&gt;F)</th>\n",
       "    </tr>\n",
       "  </thead>\n",
       "  <tbody>\n",
       "    <tr>\n",
       "      <th>BodyFat</th>\n",
       "      <td>1.0</td>\n",
       "      <td>3401.092739</td>\n",
       "      <td>3401.092739</td>\n",
       "      <td>23.320348</td>\n",
       "      <td>0.000002</td>\n",
       "    </tr>\n",
       "    <tr>\n",
       "      <th>Residual</th>\n",
       "      <td>250.0</td>\n",
       "      <td>36460.569960</td>\n",
       "      <td>145.842280</td>\n",
       "      <td>NaN</td>\n",
       "      <td>NaN</td>\n",
       "    </tr>\n",
       "  </tbody>\n",
       "</table>\n",
       "</div>"
      ],
      "text/plain": [
       "             df        sum_sq      mean_sq          F    PR(>F)\n",
       "BodyFat     1.0   3401.092739  3401.092739  23.320348  0.000002\n",
       "Residual  250.0  36460.569960   145.842280        NaN       NaN"
      ]
     },
     "execution_count": 82,
     "metadata": {},
     "output_type": "execute_result"
    }
   ],
   "source": [
    "mod1=ols(\"Age~BodyFat\",data=df).fit()\n",
    "sm.stats.anova_lm(mod1)"
   ]
  },
  {
   "cell_type": "markdown",
   "id": "97735602",
   "metadata": {},
   "source": [
    "### here p value=0.000003,it is less than 0.05.hence it is good predictor"
   ]
  },
  {
   "cell_type": "code",
   "execution_count": 51,
   "id": "88d24866",
   "metadata": {},
   "outputs": [
    {
     "data": {
      "text/plain": [
       "Index(['Density', 'BodyFat', 'Age', 'Weight', 'Height', 'Neck', 'Chest',\n",
       "       'Abdomen', 'Hip', 'Thigh', 'Knee', 'Ankle', 'Biceps', 'Forearm',\n",
       "       'Wrist'],\n",
       "      dtype='object')"
      ]
     },
     "execution_count": 51,
     "metadata": {},
     "output_type": "execute_result"
    }
   ],
   "source": [
    "df.columns"
   ]
  },
  {
   "cell_type": "markdown",
   "id": "a7125951",
   "metadata": {},
   "source": [
    "### 3- Weight"
   ]
  },
  {
   "cell_type": "code",
   "execution_count": 52,
   "id": "8ab6a06a",
   "metadata": {},
   "outputs": [
    {
     "data": {
      "text/plain": [
       "152.25    3\n",
       "168.25    3\n",
       "168.00    3\n",
       "177.25    3\n",
       "170.75    3\n",
       "         ..\n",
       "171.50    1\n",
       "212.75    1\n",
       "168.50    1\n",
       "191.75    1\n",
       "177.50    1\n",
       "Name: Weight, Length: 197, dtype: int64"
      ]
     },
     "execution_count": 52,
     "metadata": {},
     "output_type": "execute_result"
    }
   ],
   "source": [
    "df.Weight.value_counts()"
   ]
  },
  {
   "cell_type": "code",
   "execution_count": 53,
   "id": "84e6e6fb",
   "metadata": {},
   "outputs": [
    {
     "data": {
      "text/plain": [
       "count    252.000000\n",
       "mean     178.924405\n",
       "std       29.389160\n",
       "min      118.500000\n",
       "25%      159.000000\n",
       "50%      176.500000\n",
       "75%      197.000000\n",
       "max      363.150000\n",
       "Name: Weight, dtype: float64"
      ]
     },
     "execution_count": 53,
     "metadata": {},
     "output_type": "execute_result"
    }
   ],
   "source": [
    "df.Weight.describe()"
   ]
  },
  {
   "cell_type": "code",
   "execution_count": 54,
   "id": "cdd51e56",
   "metadata": {},
   "outputs": [
    {
     "data": {
      "text/plain": [
       "0"
      ]
     },
     "execution_count": 54,
     "metadata": {},
     "output_type": "execute_result"
    }
   ],
   "source": [
    "df.Weight.isnull().sum()"
   ]
  },
  {
   "cell_type": "code",
   "execution_count": 55,
   "id": "9f4b0b12",
   "metadata": {},
   "outputs": [
    {
     "name": "stderr",
     "output_type": "stream",
     "text": [
      "C:\\ProgramData\\Anaconda3\\lib\\site-packages\\seaborn\\distributions.py:2557: FutureWarning: `distplot` is a deprecated function and will be removed in a future version. Please adapt your code to use either `displot` (a figure-level function with similar flexibility) or `histplot` (an axes-level function for histograms).\n",
      "  warnings.warn(msg, FutureWarning)\n"
     ]
    },
    {
     "data": {
      "text/plain": [
       "Text(0.5, 1.0, 'Histogram of Weight')"
      ]
     },
     "execution_count": 55,
     "metadata": {},
     "output_type": "execute_result"
    },
    {
     "data": {
      "image/png": "[encoded data removed]",
      "text/plain": [
       "<Figure size 432x288 with 1 Axes>"
      ]
     },
     "metadata": {
      "needs_background": "light"
     },
     "output_type": "display_data"
    }
   ],
   "source": [
    "#Histogram\n",
    "sns.distplot(df.Weight, color = 'red')\n",
    "plt.xlabel('Weight')\n",
    "plt.title('Histogram of Weight')"
   ]
  },
  {
   "cell_type": "code",
   "execution_count": 56,
   "id": "1eb1f79d",
   "metadata": {},
   "outputs": [
    {
     "data": {
      "text/plain": [
       "Text(0.5, 1.0, 'Boxplot of Weight')"
      ]
     },
     "execution_count": 56,
     "metadata": {},
     "output_type": "execute_result"
    },
    {
     "data": {
      "image/png": "[encoded data removed]",
      "text/plain": [
       "<Figure size 432x288 with 1 Axes>"
      ]
     },
     "metadata": {
      "needs_background": "light"
     },
     "output_type": "display_data"
    }
   ],
   "source": [
    "#Boxplot\n",
    "plt.boxplot(df['Weight'],1,'rs',1)\n",
    "plt.xlabel('Weight')\n",
    "plt.ylabel('counts')\n",
    "plt.title('Boxplot of Weight')"
   ]
  },
  {
   "cell_type": "code",
   "execution_count": 57,
   "id": "930d502a",
   "metadata": {},
   "outputs": [
    {
     "data": {
      "text/plain": [
       "38.0"
      ]
     },
     "execution_count": 57,
     "metadata": {},
     "output_type": "execute_result"
    }
   ],
   "source": [
    "# Outliers Count\n",
    "IQR3 = df['Weight'].quantile(0.75) - df['Weight'].quantile(0.25)\n",
    "IQR3"
   ]
  },
  {
   "cell_type": "code",
   "execution_count": 58,
   "id": "058b4062",
   "metadata": {},
   "outputs": [
    {
     "data": {
      "text/plain": [
       "254.0"
      ]
     },
     "execution_count": 58,
     "metadata": {},
     "output_type": "execute_result"
    }
   ],
   "source": [
    "UL3 = df['Weight'].quantile(0.75) + (1.5*IQR3)\n",
    "UL3"
   ]
  },
  {
   "cell_type": "code",
   "execution_count": 59,
   "id": "fc681f14",
   "metadata": {},
   "outputs": [
    {
     "data": {
      "text/plain": [
       "2"
      ]
     },
     "execution_count": 59,
     "metadata": {},
     "output_type": "execute_result"
    }
   ],
   "source": [
    "df.Weight[(df.Weight > UL3)].value_counts().sum()"
   ]
  },
  {
   "cell_type": "code",
   "execution_count": 60,
   "id": "2c37a663",
   "metadata": {},
   "outputs": [],
   "source": [
    "df.Weight = np.where(df.Weight > UL3, UL3, df.Weight)"
   ]
  },
  {
   "cell_type": "code",
   "execution_count": 61,
   "id": "49f14f59",
   "metadata": {},
   "outputs": [
    {
     "data": {
      "text/plain": [
       "0"
      ]
     },
     "execution_count": 61,
     "metadata": {},
     "output_type": "execute_result"
    }
   ],
   "source": [
    "df.Weight[(df.Weight > UL3)].value_counts().sum()"
   ]
  },
  {
   "cell_type": "code",
   "execution_count": 62,
   "id": "07f9679c",
   "metadata": {},
   "outputs": [
    {
     "data": {
      "text/plain": [
       "Text(0.5, 1.0, 'Boxplot of Weight')"
      ]
     },
     "execution_count": 62,
     "metadata": {},
     "output_type": "execute_result"
    },
    {
     "data": {
      "image/png": "[encoded data removed]",
      "text/plain": [
       "<Figure size 432x288 with 1 Axes>"
      ]
     },
     "metadata": {
      "needs_background": "light"
     },
     "output_type": "display_data"
    }
   ],
   "source": [
    "#Boxplot after treatment\n",
    "plt.boxplot(df['Weight'],1,'rs',1)\n",
    "plt.xlabel('Weight')\n",
    "plt.ylabel('counts')\n",
    "plt.title('Boxplot of Weight')"
   ]
  },
  {
   "cell_type": "code",
   "execution_count": 80,
   "id": "9254165b",
   "metadata": {},
   "outputs": [],
   "source": [
    "# Convert dataframe into series\n",
    "list1=df[\"Weight\"]\n",
    "list2=df[\"BodyFat\"]"
   ]
  },
  {
   "cell_type": "code",
   "execution_count": 81,
   "id": "90ca1df6",
   "metadata": {},
   "outputs": [
    {
     "name": "stdout",
     "output_type": "stream",
     "text": [
      "Pearsons correlation: 0.627\n"
     ]
    }
   ],
   "source": [
    "# Apply the pearsonr()\n",
    "corr, _ = pearsonr(list1, list2)\n",
    "print('Pearsons correlation: %.3f' % corr)"
   ]
  },
  {
   "cell_type": "markdown",
   "id": "9b5ff62e",
   "metadata": {},
   "source": [
    "### Pearsons correlation: 0.627"
   ]
  },
  {
   "cell_type": "markdown",
   "id": "a2706138",
   "metadata": {},
   "source": [
    "### 4- Height"
   ]
  },
  {
   "cell_type": "code",
   "execution_count": 66,
   "id": "5448832c",
   "metadata": {},
   "outputs": [
    {
     "data": {
      "text/plain": [
       "29.50     1\n",
       "64.00     2\n",
       "64.75     1\n",
       "65.00     1\n",
       "65.50     2\n",
       "65.75     6\n",
       "66.00     2\n",
       "66.25     1\n",
       "66.50     2\n",
       "66.75     4\n",
       "67.00     5\n",
       "67.25     6\n",
       "67.50    11\n",
       "67.75     8\n",
       "68.00     6\n",
       "68.25     7\n",
       "68.50     7\n",
       "68.75     7\n",
       "69.00     5\n",
       "69.25    12\n",
       "69.50    12\n",
       "69.75     9\n",
       "70.00    10\n",
       "70.25     6\n",
       "70.50     7\n",
       "70.75     6\n",
       "71.00     5\n",
       "71.25     7\n",
       "71.50    14\n",
       "71.75     6\n",
       "72.00     7\n",
       "72.25    12\n",
       "72.50     5\n",
       "72.75     6\n",
       "73.00     4\n",
       "73.25     5\n",
       "73.50     7\n",
       "73.75     4\n",
       "74.00     4\n",
       "74.25     5\n",
       "74.50     6\n",
       "74.75     2\n",
       "75.00     1\n",
       "75.25     1\n",
       "75.50     1\n",
       "76.00     2\n",
       "77.50     1\n",
       "77.75     1\n",
       "Name: Height, dtype: int64"
      ]
     },
     "execution_count": 66,
     "metadata": {},
     "output_type": "execute_result"
    }
   ],
   "source": [
    "df.Height.value_counts().sort_index()"
   ]
  },
  {
   "cell_type": "code",
   "execution_count": 67,
   "id": "138c8ebd",
   "metadata": {},
   "outputs": [
    {
     "data": {
      "text/plain": [
       "count    252.000000\n",
       "mean      70.148810\n",
       "std        3.662856\n",
       "min       29.500000\n",
       "25%       68.250000\n",
       "50%       70.000000\n",
       "75%       72.250000\n",
       "max       77.750000\n",
       "Name: Height, dtype: float64"
      ]
     },
     "execution_count": 67,
     "metadata": {},
     "output_type": "execute_result"
    }
   ],
   "source": [
    "df.Height.describe()"
   ]
  },
  {
   "cell_type": "code",
   "execution_count": 68,
   "id": "b42ef0c7",
   "metadata": {},
   "outputs": [
    {
     "data": {
      "text/plain": [
       "0"
      ]
     },
     "execution_count": 68,
     "metadata": {},
     "output_type": "execute_result"
    }
   ],
   "source": [
    "df.Height.isnull().sum()"
   ]
  },
  {
   "cell_type": "code",
   "execution_count": 69,
   "id": "66ad9dde",
   "metadata": {},
   "outputs": [
    {
     "name": "stderr",
     "output_type": "stream",
     "text": [
      "C:\\ProgramData\\Anaconda3\\lib\\site-packages\\seaborn\\distributions.py:2557: FutureWarning: `distplot` is a deprecated function and will be removed in a future version. Please adapt your code to use either `displot` (a figure-level function with similar flexibility) or `histplot` (an axes-level function for histograms).\n",
      "  warnings.warn(msg, FutureWarning)\n"
     ]
    },
    {
     "data": {
      "text/plain": [
       "Text(0.5, 1.0, 'Histogram of Height')"
      ]
     },
     "execution_count": 69,
     "metadata": {},
     "output_type": "execute_result"
    },
    {
     "data": {
      "image/png": "[encoded data removed]",
      "text/plain": [
       "<Figure size 432x288 with 1 Axes>"
      ]
     },
     "metadata": {
      "needs_background": "light"
     },
     "output_type": "display_data"
    }
   ],
   "source": [
    "#Histogram\n",
    "sns.distplot(df.Height, color = 'red')\n",
    "plt.xlabel('Height')\n",
    "plt.title('Histogram of Height')"
   ]
  },
  {
   "cell_type": "code",
   "execution_count": 70,
   "id": "0d44c19a",
   "metadata": {},
   "outputs": [
    {
     "data": {
      "text/plain": [
       "Text(0.5, 1.0, 'Boxplot of Height')"
      ]
     },
     "execution_count": 70,
     "metadata": {},
     "output_type": "execute_result"
    },
    {
     "data": {
      "image/png": "[encoded data removed]",
      "text/plain": [
       "<Figure size 432x288 with 1 Axes>"
      ]
     },
     "metadata": {
      "needs_background": "light"
     },
     "output_type": "display_data"
    }
   ],
   "source": [
    "#Boxplot\n",
    "plt.boxplot(df['Height'],1,'rs',1)\n",
    "plt.xlabel('Height')\n",
    "plt.ylabel('counts')\n",
    "plt.title('Boxplot of Height')"
   ]
  },
  {
   "cell_type": "code",
   "execution_count": 72,
   "id": "04a2b3cc",
   "metadata": {},
   "outputs": [
    {
     "data": {
      "text/plain": [
       "4.0"
      ]
     },
     "execution_count": 72,
     "metadata": {},
     "output_type": "execute_result"
    }
   ],
   "source": [
    "# Outliers Count\n",
    "IQR4 = df['Height'].quantile(0.75) - df['Height'].quantile(0.25)\n",
    "IQR4"
   ]
  },
  {
   "cell_type": "code",
   "execution_count": 73,
   "id": "2147c45a",
   "metadata": {},
   "outputs": [
    {
     "data": {
      "text/plain": [
       "62.25"
      ]
     },
     "execution_count": 73,
     "metadata": {},
     "output_type": "execute_result"
    }
   ],
   "source": [
    "LL4 = df['Height'].quantile(0.25) - (1.5*IQR4)\n",
    "LL4"
   ]
  },
  {
   "cell_type": "code",
   "execution_count": 74,
   "id": "466a7ca0",
   "metadata": {},
   "outputs": [
    {
     "data": {
      "text/plain": [
       "1"
      ]
     },
     "execution_count": 74,
     "metadata": {},
     "output_type": "execute_result"
    }
   ],
   "source": [
    "df.Height[(df.Height < LL4)].value_counts().sum()"
   ]
  },
  {
   "cell_type": "code",
   "execution_count": 75,
   "id": "4f7e62d8",
   "metadata": {},
   "outputs": [],
   "source": [
    "df.Height = np.where(df.Height < LL4, LL4, df.Height)"
   ]
  },
  {
   "cell_type": "code",
   "execution_count": 76,
   "id": "08d7878a",
   "metadata": {},
   "outputs": [
    {
     "data": {
      "text/plain": [
       "0"
      ]
     },
     "execution_count": 76,
     "metadata": {},
     "output_type": "execute_result"
    }
   ],
   "source": [
    "df.Height[(df.Height < LL4)].value_counts().sum()"
   ]
  },
  {
   "cell_type": "code",
   "execution_count": 77,
   "id": "10d78f07",
   "metadata": {},
   "outputs": [
    {
     "data": {
      "text/plain": [
       "Text(0.5, 1.0, 'Boxplot of Height')"
      ]
     },
     "execution_count": 77,
     "metadata": {},
     "output_type": "execute_result"
    },
    {
     "data": {
      "image/png": "[encoded data removed]",
      "text/plain": [
       "<Figure size 432x288 with 1 Axes>"
      ]
     },
     "metadata": {
      "needs_background": "light"
     },
     "output_type": "display_data"
    }
   ],
   "source": [
    "#Boxplot after treatment\n",
    "plt.boxplot(df['Height'],1,'rs',1)\n",
    "plt.xlabel('Height')\n",
    "plt.ylabel('counts')\n",
    "plt.title('Boxplot of Height')"
   ]
  },
  {
   "cell_type": "code",
   "execution_count": 79,
   "id": "2fcd0998",
   "metadata": {},
   "outputs": [
    {
     "data": {
      "text/html": [
       "<div>\n",
       "<style scoped>\n",
       "    .dataframe tbody tr th:only-of-type {\n",
       "        vertical-align: middle;\n",
       "    }\n",
       "\n",
       "    .dataframe tbody tr th {\n",
       "        vertical-align: top;\n",
       "    }\n",
       "\n",
       "    .dataframe thead th {\n",
       "        text-align: right;\n",
       "    }\n",
       "</style>\n",
       "<table border=\"1\" class=\"dataframe\">\n",
       "  <thead>\n",
       "    <tr style=\"text-align: right;\">\n",
       "      <th></th>\n",
       "      <th>df</th>\n",
       "      <th>sum_sq</th>\n",
       "      <th>mean_sq</th>\n",
       "      <th>F</th>\n",
       "      <th>PR(&gt;F)</th>\n",
       "    </tr>\n",
       "  </thead>\n",
       "  <tbody>\n",
       "    <tr>\n",
       "      <th>BodyFat</th>\n",
       "      <td>1.0</td>\n",
       "      <td>2.770689</td>\n",
       "      <td>2.770689</td>\n",
       "      <td>0.391211</td>\n",
       "      <td>0.532234</td>\n",
       "    </tr>\n",
       "    <tr>\n",
       "      <th>Residual</th>\n",
       "      <td>250.0</td>\n",
       "      <td>1770.583229</td>\n",
       "      <td>7.082333</td>\n",
       "      <td>NaN</td>\n",
       "      <td>NaN</td>\n",
       "    </tr>\n",
       "  </tbody>\n",
       "</table>\n",
       "</div>"
      ],
      "text/plain": [
       "             df       sum_sq   mean_sq         F    PR(>F)\n",
       "BodyFat     1.0     2.770689  2.770689  0.391211  0.532234\n",
       "Residual  250.0  1770.583229  7.082333       NaN       NaN"
      ]
     },
     "execution_count": 79,
     "metadata": {},
     "output_type": "execute_result"
    }
   ],
   "source": [
    "mod2=ols(\"Height~BodyFat\",data=df).fit()\n",
    "sm.stats.anova_lm(mod2)"
   ]
  },
  {
   "cell_type": "markdown",
   "id": "24e5b89d",
   "metadata": {},
   "source": [
    "### here p value=0.53,it is greater  than 0.05,bad predictor."
   ]
  },
  {
   "cell_type": "code",
   "execution_count": 85,
   "id": "66008f61",
   "metadata": {},
   "outputs": [
    {
     "data": {
      "text/plain": [
       "Index(['Density', 'BodyFat', 'Age', 'Weight', 'Height', 'Neck', 'Chest',\n",
       "       'Abdomen', 'Hip', 'Thigh', 'Knee', 'Ankle', 'Biceps', 'Forearm',\n",
       "       'Wrist'],\n",
       "      dtype='object')"
      ]
     },
     "execution_count": 85,
     "metadata": {},
     "output_type": "execute_result"
    }
   ],
   "source": [
    "df.columns"
   ]
  },
  {
   "cell_type": "markdown",
   "id": "10227274",
   "metadata": {},
   "source": [
    "### 5- Neck"
   ]
  },
  {
   "cell_type": "code",
   "execution_count": 86,
   "id": "aa766f35",
   "metadata": {},
   "outputs": [
    {
     "data": {
      "text/plain": [
       "38.5    12\n",
       "38.0    10\n",
       "37.4     8\n",
       "36.5     7\n",
       "37.8     7\n",
       "        ..\n",
       "34.1     1\n",
       "34.8     1\n",
       "41.2     1\n",
       "33.2     1\n",
       "35.0     1\n",
       "Name: Neck, Length: 90, dtype: int64"
      ]
     },
     "execution_count": 86,
     "metadata": {},
     "output_type": "execute_result"
    }
   ],
   "source": [
    "df.Neck.value_counts()"
   ]
  },
  {
   "cell_type": "code",
   "execution_count": 87,
   "id": "756f7ee3",
   "metadata": {},
   "outputs": [
    {
     "data": {
      "text/plain": [
       "count    252.000000\n",
       "mean      37.992063\n",
       "std        2.430913\n",
       "min       31.100000\n",
       "25%       36.400000\n",
       "50%       38.000000\n",
       "75%       39.425000\n",
       "max       51.200000\n",
       "Name: Neck, dtype: float64"
      ]
     },
     "execution_count": 87,
     "metadata": {},
     "output_type": "execute_result"
    }
   ],
   "source": [
    "df.Neck.describe()"
   ]
  },
  {
   "cell_type": "code",
   "execution_count": 88,
   "id": "1fbc3708",
   "metadata": {},
   "outputs": [
    {
     "data": {
      "text/plain": [
       "0"
      ]
     },
     "execution_count": 88,
     "metadata": {},
     "output_type": "execute_result"
    }
   ],
   "source": [
    "df.Neck.isnull().sum()"
   ]
  },
  {
   "cell_type": "code",
   "execution_count": 89,
   "id": "cbf86269",
   "metadata": {},
   "outputs": [
    {
     "name": "stderr",
     "output_type": "stream",
     "text": [
      "C:\\ProgramData\\Anaconda3\\lib\\site-packages\\seaborn\\distributions.py:2557: FutureWarning: `distplot` is a deprecated function and will be removed in a future version. Please adapt your code to use either `displot` (a figure-level function with similar flexibility) or `histplot` (an axes-level function for histograms).\n",
      "  warnings.warn(msg, FutureWarning)\n"
     ]
    },
    {
     "data": {
      "text/plain": [
       "Text(0.5, 1.0, 'Histogram of Neck')"
      ]
     },
     "execution_count": 89,
     "metadata": {},
     "output_type": "execute_result"
    },
    {
     "data": {
      "image/png": "[encoded data removed]",
      "text/plain": [
       "<Figure size 432x288 with 1 Axes>"
      ]
     },
     "metadata": {
      "needs_background": "light"
     },
     "output_type": "display_data"
    }
   ],
   "source": [
    "#Histogram\n",
    "sns.distplot(df.Neck, color = 'red')\n",
    "plt.xlabel('Neck')\n",
    "plt.title('Histogram of Neck')"
   ]
  },
  {
   "cell_type": "code",
   "execution_count": 90,
   "id": "c7d63a81",
   "metadata": {},
   "outputs": [
    {
     "data": {
      "text/plain": [
       "Text(0.5, 1.0, 'Boxplot of Neck')"
      ]
     },
     "execution_count": 90,
     "metadata": {},
     "output_type": "execute_result"
    },
    {
     "data": {
      "image/png": "[encoded data removed]",
      "text/plain": [
       "<Figure size 432x288 with 1 Axes>"
      ]
     },
     "metadata": {
      "needs_background": "light"
     },
     "output_type": "display_data"
    }
   ],
   "source": [
    "#Boxplot\n",
    "plt.boxplot(df['Neck'],1,'rs',1)\n",
    "plt.xlabel('Neck')\n",
    "plt.ylabel('counts')\n",
    "plt.title('Boxplot of Neck')"
   ]
  },
  {
   "cell_type": "code",
   "execution_count": 91,
   "id": "368d715a",
   "metadata": {},
   "outputs": [
    {
     "data": {
      "text/plain": [
       "3.0249999999999986"
      ]
     },
     "execution_count": 91,
     "metadata": {},
     "output_type": "execute_result"
    }
   ],
   "source": [
    "# Outliers Count\n",
    "IQR5 = df['Neck'].quantile(0.75) - df['Neck'].quantile(0.25)\n",
    "IQR5"
   ]
  },
  {
   "cell_type": "code",
   "execution_count": 92,
   "id": "113eb6c9",
   "metadata": {},
   "outputs": [
    {
     "data": {
      "text/plain": [
       "43.96249999999999"
      ]
     },
     "execution_count": 92,
     "metadata": {},
     "output_type": "execute_result"
    }
   ],
   "source": [
    "UL5 = df['Neck'].quantile(0.75) + (1.5*IQR5)\n",
    "UL5"
   ]
  },
  {
   "cell_type": "code",
   "execution_count": 93,
   "id": "54898076",
   "metadata": {},
   "outputs": [
    {
     "data": {
      "text/plain": [
       "31.8625"
      ]
     },
     "execution_count": 93,
     "metadata": {},
     "output_type": "execute_result"
    }
   ],
   "source": [
    "LL5 = df['Neck'].quantile(0.25) - (1.5*IQR5)\n",
    "LL5"
   ]
  },
  {
   "cell_type": "code",
   "execution_count": 94,
   "id": "b66b72dd",
   "metadata": {},
   "outputs": [
    {
     "data": {
      "text/plain": [
       "1"
      ]
     },
     "execution_count": 94,
     "metadata": {},
     "output_type": "execute_result"
    }
   ],
   "source": [
    "df.Neck[(df.Neck > UL5)].value_counts().sum()"
   ]
  },
  {
   "cell_type": "code",
   "execution_count": 95,
   "id": "47b4231f",
   "metadata": {},
   "outputs": [
    {
     "data": {
      "text/plain": [
       "2"
      ]
     },
     "execution_count": 95,
     "metadata": {},
     "output_type": "execute_result"
    }
   ],
   "source": [
    "df.Neck[(df.Neck < LL5)].value_counts().sum()"
   ]
  },
  {
   "cell_type": "code",
   "execution_count": 96,
   "id": "23942dae",
   "metadata": {},
   "outputs": [],
   "source": [
    "df.Neck = np.where(df.Neck > UL5, UL5, df.Neck)"
   ]
  },
  {
   "cell_type": "code",
   "execution_count": 97,
   "id": "12f305f8",
   "metadata": {},
   "outputs": [],
   "source": [
    "df.Neck = np.where(df.Neck < LL5, LL5, df.Neck)"
   ]
  },
  {
   "cell_type": "code",
   "execution_count": 98,
   "id": "239f9391",
   "metadata": {},
   "outputs": [
    {
     "data": {
      "text/plain": [
       "0"
      ]
     },
     "execution_count": 98,
     "metadata": {},
     "output_type": "execute_result"
    }
   ],
   "source": [
    "df.Neck[(df.Neck > UL5)].value_counts().sum()"
   ]
  },
  {
   "cell_type": "code",
   "execution_count": 99,
   "id": "5af7658e",
   "metadata": {},
   "outputs": [
    {
     "data": {
      "text/plain": [
       "0"
      ]
     },
     "execution_count": 99,
     "metadata": {},
     "output_type": "execute_result"
    }
   ],
   "source": [
    "df.Neck[(df.Neck < LL5)].value_counts().sum()"
   ]
  },
  {
   "cell_type": "code",
   "execution_count": 100,
   "id": "e0613f09",
   "metadata": {},
   "outputs": [
    {
     "data": {
      "text/plain": [
       "Text(0.5, 1.0, 'Boxplot of Neck')"
      ]
     },
     "execution_count": 100,
     "metadata": {},
     "output_type": "execute_result"
    },
    {
     "data": {
      "image/png": "[encoded data removed]",
      "text/plain": [
       "<Figure size 432x288 with 1 Axes>"
      ]
     },
     "metadata": {
      "needs_background": "light"
     },
     "output_type": "display_data"
    }
   ],
   "source": [
    "#Boxplot after treatment\n",
    "plt.boxplot(df['Neck'],1,'rs',1)\n",
    "plt.xlabel('Neck')\n",
    "plt.ylabel('counts')\n",
    "plt.title('Boxplot of Neck')"
   ]
  },
  {
   "cell_type": "code",
   "execution_count": 101,
   "id": "65e4483d",
   "metadata": {},
   "outputs": [
    {
     "data": {
      "text/html": [
       "<div>\n",
       "<style scoped>\n",
       "    .dataframe tbody tr th:only-of-type {\n",
       "        vertical-align: middle;\n",
       "    }\n",
       "\n",
       "    .dataframe tbody tr th {\n",
       "        vertical-align: top;\n",
       "    }\n",
       "\n",
       "    .dataframe thead th {\n",
       "        text-align: right;\n",
       "    }\n",
       "</style>\n",
       "<table border=\"1\" class=\"dataframe\">\n",
       "  <thead>\n",
       "    <tr style=\"text-align: right;\">\n",
       "      <th></th>\n",
       "      <th>df</th>\n",
       "      <th>sum_sq</th>\n",
       "      <th>mean_sq</th>\n",
       "      <th>F</th>\n",
       "      <th>PR(&gt;F)</th>\n",
       "    </tr>\n",
       "  </thead>\n",
       "  <tbody>\n",
       "    <tr>\n",
       "      <th>BodyFat</th>\n",
       "      <td>1.0</td>\n",
       "      <td>323.623874</td>\n",
       "      <td>323.623874</td>\n",
       "      <td>80.410305</td>\n",
       "      <td>7.328353e-17</td>\n",
       "    </tr>\n",
       "    <tr>\n",
       "      <th>Residual</th>\n",
       "      <td>250.0</td>\n",
       "      <td>1006.164183</td>\n",
       "      <td>4.024657</td>\n",
       "      <td>NaN</td>\n",
       "      <td>NaN</td>\n",
       "    </tr>\n",
       "  </tbody>\n",
       "</table>\n",
       "</div>"
      ],
      "text/plain": [
       "             df       sum_sq     mean_sq          F        PR(>F)\n",
       "BodyFat     1.0   323.623874  323.623874  80.410305  7.328353e-17\n",
       "Residual  250.0  1006.164183    4.024657        NaN           NaN"
      ]
     },
     "execution_count": 101,
     "metadata": {},
     "output_type": "execute_result"
    }
   ],
   "source": [
    "mod4=ols(\"Neck~BodyFat\",data=df).fit()\n",
    "sm.stats.anova_lm(mod4)"
   ]
  },
  {
   "cell_type": "markdown",
   "id": "6b8069f2",
   "metadata": {},
   "source": [
    "#### here p value=7.328353e-17,it is less than 0.05.hence it is good predictor."
   ]
  },
  {
   "cell_type": "code",
   "execution_count": 102,
   "id": "e5ed1fa5",
   "metadata": {},
   "outputs": [
    {
     "data": {
      "text/plain": [
       "Index(['Density', 'BodyFat', 'Age', 'Weight', 'Height', 'Neck', 'Chest',\n",
       "       'Abdomen', 'Hip', 'Thigh', 'Knee', 'Ankle', 'Biceps', 'Forearm',\n",
       "       'Wrist'],\n",
       "      dtype='object')"
      ]
     },
     "execution_count": 102,
     "metadata": {},
     "output_type": "execute_result"
    }
   ],
   "source": [
    "df.columns"
   ]
  },
  {
   "cell_type": "markdown",
   "id": "1b985be4",
   "metadata": {},
   "source": [
    "### 6- Chest"
   ]
  },
  {
   "cell_type": "code",
   "execution_count": 103,
   "id": "90b2da71",
   "metadata": {},
   "outputs": [
    {
     "data": {
      "text/plain": [
       "79.3     1\n",
       "83.4     1\n",
       "85.1     1\n",
       "86.0     1\n",
       "86.7     1\n",
       "        ..\n",
       "119.8    1\n",
       "119.9    1\n",
       "121.6    1\n",
       "128.3    1\n",
       "136.2    1\n",
       "Name: Chest, Length: 174, dtype: int64"
      ]
     },
     "execution_count": 103,
     "metadata": {},
     "output_type": "execute_result"
    }
   ],
   "source": [
    "df.Chest.value_counts().sort_index()"
   ]
  },
  {
   "cell_type": "code",
   "execution_count": 104,
   "id": "21ce0c74",
   "metadata": {},
   "outputs": [
    {
     "data": {
      "text/plain": [
       "count    252.000000\n",
       "mean     100.824206\n",
       "std        8.430476\n",
       "min       79.300000\n",
       "25%       94.350000\n",
       "50%       99.650000\n",
       "75%      105.375000\n",
       "max      136.200000\n",
       "Name: Chest, dtype: float64"
      ]
     },
     "execution_count": 104,
     "metadata": {},
     "output_type": "execute_result"
    }
   ],
   "source": [
    "df.Chest.describe()"
   ]
  },
  {
   "cell_type": "code",
   "execution_count": 105,
   "id": "2b99b588",
   "metadata": {},
   "outputs": [
    {
     "data": {
      "text/plain": [
       "0"
      ]
     },
     "execution_count": 105,
     "metadata": {},
     "output_type": "execute_result"
    }
   ],
   "source": [
    "df.Chest.isnull().sum()"
   ]
  },
  {
   "cell_type": "code",
   "execution_count": 106,
   "id": "27d18928",
   "metadata": {},
   "outputs": [
    {
     "name": "stderr",
     "output_type": "stream",
     "text": [
      "C:\\ProgramData\\Anaconda3\\lib\\site-packages\\seaborn\\distributions.py:2557: FutureWarning: `distplot` is a deprecated function and will be removed in a future version. Please adapt your code to use either `displot` (a figure-level function with similar flexibility) or `histplot` (an axes-level function for histograms).\n",
      "  warnings.warn(msg, FutureWarning)\n"
     ]
    },
    {
     "data": {
      "text/plain": [
       "Text(0.5, 1.0, 'Histogram of Chest')"
      ]
     },
     "execution_count": 106,
     "metadata": {},
     "output_type": "execute_result"
    },
    {
     "data": {
      "image/png": "[encoded data removed]",
      "text/plain": [
       "<Figure size 432x288 with 1 Axes>"
      ]
     },
     "metadata": {
      "needs_background": "light"
     },
     "output_type": "display_data"
    }
   ],
   "source": [
    "#Histogram\n",
    "sns.distplot(df.Chest, color = 'red')\n",
    "plt.xlabel('Chest')\n",
    "plt.title('Histogram of Chest')"
   ]
  },
  {
   "cell_type": "code",
   "execution_count": 107,
   "id": "0312a968",
   "metadata": {},
   "outputs": [
    {
     "data": {
      "text/plain": [
       "Text(0.5, 1.0, 'Boxplot of Chest')"
      ]
     },
     "execution_count": 107,
     "metadata": {},
     "output_type": "execute_result"
    },
    {
     "data": {
      "image/png": "[encoded data removed]",
      "text/plain": [
       "<Figure size 432x288 with 1 Axes>"
      ]
     },
     "metadata": {
      "needs_background": "light"
     },
     "output_type": "display_data"
    }
   ],
   "source": [
    "#Boxplot\n",
    "plt.boxplot(df['Chest'],1,'rs',1)\n",
    "plt.xlabel('Chest')\n",
    "plt.ylabel('counts')\n",
    "plt.title('Boxplot of Chest')"
   ]
  },
  {
   "cell_type": "code",
   "execution_count": 108,
   "id": "d07d381a",
   "metadata": {},
   "outputs": [
    {
     "data": {
      "text/plain": [
       "11.024999999999991"
      ]
     },
     "execution_count": 108,
     "metadata": {},
     "output_type": "execute_result"
    }
   ],
   "source": [
    "# Outliers Count\n",
    "IQR6 = df['Chest'].quantile(0.75) - df['Chest'].quantile(0.25)\n",
    "IQR6"
   ]
  },
  {
   "cell_type": "code",
   "execution_count": 109,
   "id": "7894ed78",
   "metadata": {},
   "outputs": [
    {
     "data": {
      "text/plain": [
       "121.9125"
      ]
     },
     "execution_count": 109,
     "metadata": {},
     "output_type": "execute_result"
    }
   ],
   "source": [
    "UL6 = df['Chest'].quantile(0.75) + (1.5*IQR6)\n",
    "UL6"
   ]
  },
  {
   "cell_type": "code",
   "execution_count": 110,
   "id": "f330c706",
   "metadata": {},
   "outputs": [
    {
     "data": {
      "text/plain": [
       "2"
      ]
     },
     "execution_count": 110,
     "metadata": {},
     "output_type": "execute_result"
    }
   ],
   "source": [
    "df.Chest[(df.Chest > UL6)].value_counts().sum()"
   ]
  },
  {
   "cell_type": "code",
   "execution_count": 111,
   "id": "088016f3",
   "metadata": {},
   "outputs": [],
   "source": [
    "df.Chest = np.where(df.Chest > UL6, UL6, df.Chest)"
   ]
  },
  {
   "cell_type": "code",
   "execution_count": 112,
   "id": "ade211d0",
   "metadata": {},
   "outputs": [
    {
     "data": {
      "text/plain": [
       "0"
      ]
     },
     "execution_count": 112,
     "metadata": {},
     "output_type": "execute_result"
    }
   ],
   "source": [
    "df.Chest[(df.Chest > UL6)].value_counts().sum()"
   ]
  },
  {
   "cell_type": "code",
   "execution_count": 113,
   "id": "4f8df2c1",
   "metadata": {},
   "outputs": [
    {
     "data": {
      "text/plain": [
       "Text(0.5, 1.0, 'Boxplot of Chest')"
      ]
     },
     "execution_count": 113,
     "metadata": {},
     "output_type": "execute_result"
    },
    {
     "data": {
      "image/png": "[encoded data removed]",
      "text/plain": [
       "<Figure size 432x288 with 1 Axes>"
      ]
     },
     "metadata": {
      "needs_background": "light"
     },
     "output_type": "display_data"
    }
   ],
   "source": [
    "#Boxplot after treatment\n",
    "plt.boxplot(df['Chest'],1,'rs',1)\n",
    "plt.xlabel('Chest')\n",
    "plt.ylabel('counts')\n",
    "plt.title('Boxplot of Chest')"
   ]
  },
  {
   "cell_type": "code",
   "execution_count": 114,
   "id": "265d83a0",
   "metadata": {},
   "outputs": [
    {
     "data": {
      "text/html": [
       "<div>\n",
       "<style scoped>\n",
       "    .dataframe tbody tr th:only-of-type {\n",
       "        vertical-align: middle;\n",
       "    }\n",
       "\n",
       "    .dataframe tbody tr th {\n",
       "        vertical-align: top;\n",
       "    }\n",
       "\n",
       "    .dataframe thead th {\n",
       "        text-align: right;\n",
       "    }\n",
       "</style>\n",
       "<table border=\"1\" class=\"dataframe\">\n",
       "  <thead>\n",
       "    <tr style=\"text-align: right;\">\n",
       "      <th></th>\n",
       "      <th>df</th>\n",
       "      <th>sum_sq</th>\n",
       "      <th>mean_sq</th>\n",
       "      <th>F</th>\n",
       "      <th>PR(&gt;F)</th>\n",
       "    </tr>\n",
       "  </thead>\n",
       "  <tbody>\n",
       "    <tr>\n",
       "      <th>BodyFat</th>\n",
       "      <td>1.0</td>\n",
       "      <td>8347.496589</td>\n",
       "      <td>8347.496589</td>\n",
       "      <td>249.233291</td>\n",
       "      <td>2.024097e-39</td>\n",
       "    </tr>\n",
       "    <tr>\n",
       "      <th>Residual</th>\n",
       "      <td>250.0</td>\n",
       "      <td>8373.175744</td>\n",
       "      <td>33.492703</td>\n",
       "      <td>NaN</td>\n",
       "      <td>NaN</td>\n",
       "    </tr>\n",
       "  </tbody>\n",
       "</table>\n",
       "</div>"
      ],
      "text/plain": [
       "             df       sum_sq      mean_sq           F        PR(>F)\n",
       "BodyFat     1.0  8347.496589  8347.496589  249.233291  2.024097e-39\n",
       "Residual  250.0  8373.175744    33.492703         NaN           NaN"
      ]
     },
     "execution_count": 114,
     "metadata": {},
     "output_type": "execute_result"
    }
   ],
   "source": [
    "mod6=ols(\"Chest~BodyFat\",data=df).fit()\n",
    "sm.stats.anova_lm(mod6)"
   ]
  },
  {
   "cell_type": "markdown",
   "id": "82770408",
   "metadata": {},
   "source": [
    "### here p value=2.024097e-39,it is less than 0.05.hence it is good predictor."
   ]
  },
  {
   "cell_type": "code",
   "execution_count": 115,
   "id": "64466206",
   "metadata": {},
   "outputs": [
    {
     "data": {
      "text/plain": [
       "Index(['Density', 'BodyFat', 'Age', 'Weight', 'Height', 'Neck', 'Chest',\n",
       "       'Abdomen', 'Hip', 'Thigh', 'Knee', 'Ankle', 'Biceps', 'Forearm',\n",
       "       'Wrist'],\n",
       "      dtype='object')"
      ]
     },
     "execution_count": 115,
     "metadata": {},
     "output_type": "execute_result"
    }
   ],
   "source": [
    "df.columns"
   ]
  },
  {
   "cell_type": "markdown",
   "id": "62efc720",
   "metadata": {},
   "source": [
    "### 7- Abdomen"
   ]
  },
  {
   "cell_type": "code",
   "execution_count": 116,
   "id": "dec0d736",
   "metadata": {},
   "outputs": [
    {
     "data": {
      "text/plain": [
       "69.4     1\n",
       "70.4     1\n",
       "72.8     1\n",
       "73.7     1\n",
       "73.9     1\n",
       "        ..\n",
       "115.9    1\n",
       "118.0    1\n",
       "122.1    1\n",
       "126.2    1\n",
       "148.1    1\n",
       "Name: Abdomen, Length: 185, dtype: int64"
      ]
     },
     "execution_count": 116,
     "metadata": {},
     "output_type": "execute_result"
    }
   ],
   "source": [
    "df.Abdomen.value_counts().sort_index()"
   ]
  },
  {
   "cell_type": "code",
   "execution_count": 117,
   "id": "84c79c31",
   "metadata": {},
   "outputs": [
    {
     "data": {
      "text/plain": [
       "0"
      ]
     },
     "execution_count": 117,
     "metadata": {},
     "output_type": "execute_result"
    }
   ],
   "source": [
    "df.Abdomen.isnull().sum()"
   ]
  },
  {
   "cell_type": "code",
   "execution_count": 118,
   "id": "1fd936d2",
   "metadata": {},
   "outputs": [
    {
     "data": {
      "text/plain": [
       "count    252.000000\n",
       "mean      92.555952\n",
       "std       10.783077\n",
       "min       69.400000\n",
       "25%       84.575000\n",
       "50%       90.950000\n",
       "75%       99.325000\n",
       "max      148.100000\n",
       "Name: Abdomen, dtype: float64"
      ]
     },
     "execution_count": 118,
     "metadata": {},
     "output_type": "execute_result"
    }
   ],
   "source": [
    "df.Abdomen.describe()"
   ]
  },
  {
   "cell_type": "code",
   "execution_count": 119,
   "id": "b11663d4",
   "metadata": {},
   "outputs": [
    {
     "name": "stderr",
     "output_type": "stream",
     "text": [
      "C:\\ProgramData\\Anaconda3\\lib\\site-packages\\seaborn\\distributions.py:2557: FutureWarning: `distplot` is a deprecated function and will be removed in a future version. Please adapt your code to use either `displot` (a figure-level function with similar flexibility) or `histplot` (an axes-level function for histograms).\n",
      "  warnings.warn(msg, FutureWarning)\n"
     ]
    },
    {
     "data": {
      "text/plain": [
       "Text(0.5, 1.0, 'Histogram of Abdomen')"
      ]
     },
     "execution_count": 119,
     "metadata": {},
     "output_type": "execute_result"
    },
    {
     "data": {
      "image/png": "[encoded data removed]",
      "text/plain": [
       "<Figure size 432x288 with 1 Axes>"
      ]
     },
     "metadata": {
      "needs_background": "light"
     },
     "output_type": "display_data"
    }
   ],
   "source": [
    "#Histogram\n",
    "sns.distplot(df.Abdomen, color = 'red')\n",
    "plt.xlabel('Abdomen')\n",
    "plt.title('Histogram of Abdomen')"
   ]
  },
  {
   "cell_type": "code",
   "execution_count": 120,
   "id": "17cb1739",
   "metadata": {},
   "outputs": [
    {
     "data": {
      "text/plain": [
       "Text(0.5, 1.0, 'Boxplot of Abdomen')"
      ]
     },
     "execution_count": 120,
     "metadata": {},
     "output_type": "execute_result"
    },
    {
     "data": {
      "image/png": "[encoded data removed]",
      "text/plain": [
       "<Figure size 432x288 with 1 Axes>"
      ]
     },
     "metadata": {
      "needs_background": "light"
     },
     "output_type": "display_data"
    }
   ],
   "source": [
    "#Boxplot\n",
    "plt.boxplot(df['Abdomen'],1,'rs',1)\n",
    "plt.xlabel('Abdomen')\n",
    "plt.ylabel('counts')\n",
    "plt.title('Boxplot of Abdomen')"
   ]
  },
  {
   "cell_type": "code",
   "execution_count": 121,
   "id": "b5e8181f",
   "metadata": {},
   "outputs": [
    {
     "data": {
      "text/plain": [
       "14.750000000000014"
      ]
     },
     "execution_count": 121,
     "metadata": {},
     "output_type": "execute_result"
    }
   ],
   "source": [
    "# Outliers Count\n",
    "IQR7 = df['Abdomen'].quantile(0.75) - df['Abdomen'].quantile(0.25)\n",
    "IQR7"
   ]
  },
  {
   "cell_type": "code",
   "execution_count": 122,
   "id": "79f14bda",
   "metadata": {},
   "outputs": [
    {
     "data": {
      "text/plain": [
       "121.45000000000002"
      ]
     },
     "execution_count": 122,
     "metadata": {},
     "output_type": "execute_result"
    }
   ],
   "source": [
    "UL7 = df['Abdomen'].quantile(0.75) + (1.5*IQR7)\n",
    "UL7"
   ]
  },
  {
   "cell_type": "code",
   "execution_count": 123,
   "id": "61ee0867",
   "metadata": {},
   "outputs": [
    {
     "data": {
      "text/plain": [
       "3"
      ]
     },
     "execution_count": 123,
     "metadata": {},
     "output_type": "execute_result"
    }
   ],
   "source": [
    "df.Abdomen[(df.Abdomen > UL7)].value_counts().sum()"
   ]
  },
  {
   "cell_type": "code",
   "execution_count": 124,
   "id": "67af01c6",
   "metadata": {},
   "outputs": [],
   "source": [
    "df.Abdomen = np.where(df.Abdomen > UL7, UL7, df.Abdomen)"
   ]
  },
  {
   "cell_type": "code",
   "execution_count": 125,
   "id": "3641ddd8",
   "metadata": {},
   "outputs": [
    {
     "data": {
      "text/plain": [
       "0"
      ]
     },
     "execution_count": 125,
     "metadata": {},
     "output_type": "execute_result"
    }
   ],
   "source": [
    "df.Abdomen[(df.Abdomen > UL7)].value_counts().sum()"
   ]
  },
  {
   "cell_type": "code",
   "execution_count": 126,
   "id": "3d1edae4",
   "metadata": {},
   "outputs": [
    {
     "data": {
      "text/plain": [
       "Text(0.5, 1.0, 'Boxplot of Abdomen')"
      ]
     },
     "execution_count": 126,
     "metadata": {},
     "output_type": "execute_result"
    },
    {
     "data": {
      "image/png": "[encoded data removed]",
      "text/plain": [
       "<Figure size 432x288 with 1 Axes>"
      ]
     },
     "metadata": {
      "needs_background": "light"
     },
     "output_type": "display_data"
    }
   ],
   "source": [
    "#Boxplot after treatment\n",
    "plt.boxplot(df['Abdomen'],1,'rs',1)\n",
    "plt.xlabel('Abdomen')\n",
    "plt.ylabel('counts')\n",
    "plt.title('Boxplot of Abdomen')"
   ]
  },
  {
   "cell_type": "code",
   "execution_count": 127,
   "id": "865359ba",
   "metadata": {},
   "outputs": [
    {
     "data": {
      "text/html": [
       "<div>\n",
       "<style scoped>\n",
       "    .dataframe tbody tr th:only-of-type {\n",
       "        vertical-align: middle;\n",
       "    }\n",
       "\n",
       "    .dataframe tbody tr th {\n",
       "        vertical-align: top;\n",
       "    }\n",
       "\n",
       "    .dataframe thead th {\n",
       "        text-align: right;\n",
       "    }\n",
       "</style>\n",
       "<table border=\"1\" class=\"dataframe\">\n",
       "  <thead>\n",
       "    <tr style=\"text-align: right;\">\n",
       "      <th></th>\n",
       "      <th>df</th>\n",
       "      <th>sum_sq</th>\n",
       "      <th>mean_sq</th>\n",
       "      <th>F</th>\n",
       "      <th>PR(&gt;F)</th>\n",
       "    </tr>\n",
       "  </thead>\n",
       "  <tbody>\n",
       "    <tr>\n",
       "      <th>BodyFat</th>\n",
       "      <td>1.0</td>\n",
       "      <td>18228.556530</td>\n",
       "      <td>18228.55653</td>\n",
       "      <td>544.655478</td>\n",
       "      <td>1.009062e-64</td>\n",
       "    </tr>\n",
       "    <tr>\n",
       "      <th>Residual</th>\n",
       "      <td>250.0</td>\n",
       "      <td>8367.012388</td>\n",
       "      <td>33.46805</td>\n",
       "      <td>NaN</td>\n",
       "      <td>NaN</td>\n",
       "    </tr>\n",
       "  </tbody>\n",
       "</table>\n",
       "</div>"
      ],
      "text/plain": [
       "             df        sum_sq      mean_sq           F        PR(>F)\n",
       "BodyFat     1.0  18228.556530  18228.55653  544.655478  1.009062e-64\n",
       "Residual  250.0   8367.012388     33.46805         NaN           NaN"
      ]
     },
     "execution_count": 127,
     "metadata": {},
     "output_type": "execute_result"
    }
   ],
   "source": [
    "mod7=ols(\"Abdomen~BodyFat\",data=df).fit()\n",
    "sm.stats.anova_lm(mod7)"
   ]
  },
  {
   "cell_type": "markdown",
   "id": "20f73067",
   "metadata": {},
   "source": [
    "### here p value=1.009062e-64,it is less than 0.05.hence it is good predictor."
   ]
  },
  {
   "cell_type": "code",
   "execution_count": 128,
   "id": "982de148",
   "metadata": {},
   "outputs": [
    {
     "data": {
      "text/plain": [
       "Index(['Density', 'BodyFat', 'Age', 'Weight', 'Height', 'Neck', 'Chest',\n",
       "       'Abdomen', 'Hip', 'Thigh', 'Knee', 'Ankle', 'Biceps', 'Forearm',\n",
       "       'Wrist'],\n",
       "      dtype='object')"
      ]
     },
     "execution_count": 128,
     "metadata": {},
     "output_type": "execute_result"
    }
   ],
   "source": [
    "df.columns"
   ]
  },
  {
   "cell_type": "markdown",
   "id": "56854746",
   "metadata": {},
   "source": [
    "### 8- Hip"
   ]
  },
  {
   "cell_type": "code",
   "execution_count": 129,
   "id": "86385b33",
   "metadata": {},
   "outputs": [
    {
     "data": {
      "text/plain": [
       "85.0     1\n",
       "85.3     1\n",
       "87.2     1\n",
       "87.5     1\n",
       "87.6     1\n",
       "        ..\n",
       "114.4    2\n",
       "115.5    1\n",
       "116.1    1\n",
       "125.6    1\n",
       "147.7    1\n",
       "Name: Hip, Length: 152, dtype: int64"
      ]
     },
     "execution_count": 129,
     "metadata": {},
     "output_type": "execute_result"
    }
   ],
   "source": [
    "df.Hip.value_counts().sort_index()"
   ]
  },
  {
   "cell_type": "code",
   "execution_count": 130,
   "id": "1c7b76d9",
   "metadata": {},
   "outputs": [
    {
     "data": {
      "text/plain": [
       "count    252.000000\n",
       "mean      99.904762\n",
       "std        7.164058\n",
       "min       85.000000\n",
       "25%       95.500000\n",
       "50%       99.300000\n",
       "75%      103.525000\n",
       "max      147.700000\n",
       "Name: Hip, dtype: float64"
      ]
     },
     "execution_count": 130,
     "metadata": {},
     "output_type": "execute_result"
    }
   ],
   "source": [
    "df.Hip.describe()"
   ]
  },
  {
   "cell_type": "code",
   "execution_count": 131,
   "id": "1e24456f",
   "metadata": {},
   "outputs": [
    {
     "data": {
      "text/plain": [
       "0"
      ]
     },
     "execution_count": 131,
     "metadata": {},
     "output_type": "execute_result"
    }
   ],
   "source": [
    "df.Hip.isnull().sum()"
   ]
  },
  {
   "cell_type": "code",
   "execution_count": 132,
   "id": "b42cb1e1",
   "metadata": {},
   "outputs": [
    {
     "name": "stderr",
     "output_type": "stream",
     "text": [
      "C:\\ProgramData\\Anaconda3\\lib\\site-packages\\seaborn\\distributions.py:2557: FutureWarning: `distplot` is a deprecated function and will be removed in a future version. Please adapt your code to use either `displot` (a figure-level function with similar flexibility) or `histplot` (an axes-level function for histograms).\n",
      "  warnings.warn(msg, FutureWarning)\n"
     ]
    },
    {
     "data": {
      "text/plain": [
       "Text(0.5, 1.0, 'Histogram of Hip')"
      ]
     },
     "execution_count": 132,
     "metadata": {},
     "output_type": "execute_result"
    },
    {
     "data": {
      "image/png": "[encoded data removed]",
      "text/plain": [
       "<Figure size 432x288 with 1 Axes>"
      ]
     },
     "metadata": {
      "needs_background": "light"
     },
     "output_type": "display_data"
    }
   ],
   "source": [
    "#Histogram\n",
    "sns.distplot(df.Hip, color = 'red')\n",
    "plt.xlabel('Hip')\n",
    "plt.title('Histogram of Hip')"
   ]
  },
  {
   "cell_type": "code",
   "execution_count": 133,
   "id": "d947c668",
   "metadata": {},
   "outputs": [
    {
     "data": {
      "text/plain": [
       "Text(0.5, 1.0, 'Boxplot of Hip')"
      ]
     },
     "execution_count": 133,
     "metadata": {},
     "output_type": "execute_result"
    },
    {
     "data": {
      "image/png": "[encoded data removed]",
      "text/plain": [
       "<Figure size 432x288 with 1 Axes>"
      ]
     },
     "metadata": {
      "needs_background": "light"
     },
     "output_type": "display_data"
    }
   ],
   "source": [
    "#Boxplot\n",
    "plt.boxplot(df['Hip'],1,'rs',1)\n",
    "plt.xlabel('Hip')\n",
    "plt.ylabel('counts')\n",
    "plt.title('Boxplot of Hip')"
   ]
  },
  {
   "cell_type": "code",
   "execution_count": 134,
   "id": "46042561",
   "metadata": {},
   "outputs": [
    {
     "data": {
      "text/plain": [
       "8.025000000000006"
      ]
     },
     "execution_count": 134,
     "metadata": {},
     "output_type": "execute_result"
    }
   ],
   "source": [
    "# Outliers Count\n",
    "IQR8 = df['Hip'].quantile(0.75) - df['Hip'].quantile(0.25)\n",
    "IQR8"
   ]
  },
  {
   "cell_type": "code",
   "execution_count": 135,
   "id": "b9330e9b",
   "metadata": {},
   "outputs": [
    {
     "data": {
      "text/plain": [
       "115.56250000000001"
      ]
     },
     "execution_count": 135,
     "metadata": {},
     "output_type": "execute_result"
    }
   ],
   "source": [
    "UL8 = df['Hip'].quantile(0.75) + (1.5*IQR8)\n",
    "UL8"
   ]
  },
  {
   "cell_type": "code",
   "execution_count": 136,
   "id": "b0d0e974",
   "metadata": {},
   "outputs": [
    {
     "data": {
      "text/plain": [
       "3"
      ]
     },
     "execution_count": 136,
     "metadata": {},
     "output_type": "execute_result"
    }
   ],
   "source": [
    "df.Hip[(df.Hip > UL8)].value_counts().sum()"
   ]
  },
  {
   "cell_type": "code",
   "execution_count": 137,
   "id": "eee47e25",
   "metadata": {},
   "outputs": [],
   "source": [
    "df.Hip = np.where(df.Hip > UL8, UL8, df.Hip)"
   ]
  },
  {
   "cell_type": "code",
   "execution_count": 138,
   "id": "6e7e02c4",
   "metadata": {},
   "outputs": [
    {
     "data": {
      "text/plain": [
       "0"
      ]
     },
     "execution_count": 138,
     "metadata": {},
     "output_type": "execute_result"
    }
   ],
   "source": [
    "df.Hip[(df.Hip > UL8)].value_counts().sum()"
   ]
  },
  {
   "cell_type": "code",
   "execution_count": 139,
   "id": "5ed49bd9",
   "metadata": {},
   "outputs": [
    {
     "data": {
      "text/plain": [
       "Text(0.5, 1.0, 'Boxplot of Hip')"
      ]
     },
     "execution_count": 139,
     "metadata": {},
     "output_type": "execute_result"
    },
    {
     "data": {
      "image/png": "[encoded data removed]",
      "text/plain": [
       "<Figure size 432x288 with 1 Axes>"
      ]
     },
     "metadata": {
      "needs_background": "light"
     },
     "output_type": "display_data"
    }
   ],
   "source": [
    "#Boxplot after treatment\n",
    "plt.boxplot(df['Hip'],1,'rs',1)\n",
    "plt.xlabel('Hip')\n",
    "plt.ylabel('counts')\n",
    "plt.title('Boxplot of Hip')"
   ]
  },
  {
   "cell_type": "code",
   "execution_count": 140,
   "id": "e1f34406",
   "metadata": {},
   "outputs": [
    {
     "data": {
      "text/html": [
       "<div>\n",
       "<style scoped>\n",
       "    .dataframe tbody tr th:only-of-type {\n",
       "        vertical-align: middle;\n",
       "    }\n",
       "\n",
       "    .dataframe tbody tr th {\n",
       "        vertical-align: top;\n",
       "    }\n",
       "\n",
       "    .dataframe thead th {\n",
       "        text-align: right;\n",
       "    }\n",
       "</style>\n",
       "<table border=\"1\" class=\"dataframe\">\n",
       "  <thead>\n",
       "    <tr style=\"text-align: right;\">\n",
       "      <th></th>\n",
       "      <th>df</th>\n",
       "      <th>sum_sq</th>\n",
       "      <th>mean_sq</th>\n",
       "      <th>F</th>\n",
       "      <th>PR(&gt;F)</th>\n",
       "    </tr>\n",
       "  </thead>\n",
       "  <tbody>\n",
       "    <tr>\n",
       "      <th>BodyFat</th>\n",
       "      <td>1.0</td>\n",
       "      <td>4337.784389</td>\n",
       "      <td>4337.784389</td>\n",
       "      <td>178.780129</td>\n",
       "      <td>4.011303e-31</td>\n",
       "    </tr>\n",
       "    <tr>\n",
       "      <th>Residual</th>\n",
       "      <td>250.0</td>\n",
       "      <td>6065.808886</td>\n",
       "      <td>24.263236</td>\n",
       "      <td>NaN</td>\n",
       "      <td>NaN</td>\n",
       "    </tr>\n",
       "  </tbody>\n",
       "</table>\n",
       "</div>"
      ],
      "text/plain": [
       "             df       sum_sq      mean_sq           F        PR(>F)\n",
       "BodyFat     1.0  4337.784389  4337.784389  178.780129  4.011303e-31\n",
       "Residual  250.0  6065.808886    24.263236         NaN           NaN"
      ]
     },
     "execution_count": 140,
     "metadata": {},
     "output_type": "execute_result"
    }
   ],
   "source": [
    "mod8=ols(\"Hip~BodyFat\",data=df).fit()\n",
    "sm.stats.anova_lm(mod8)"
   ]
  },
  {
   "cell_type": "markdown",
   "id": "dc3da315",
   "metadata": {},
   "source": [
    "### here p value=4.011303e-31,it is less than 0.05.hence it is good predictor."
   ]
  },
  {
   "cell_type": "code",
   "execution_count": 141,
   "id": "46e6e5e8",
   "metadata": {},
   "outputs": [
    {
     "data": {
      "text/plain": [
       "Index(['Density', 'BodyFat', 'Age', 'Weight', 'Height', 'Neck', 'Chest',\n",
       "       'Abdomen', 'Hip', 'Thigh', 'Knee', 'Ankle', 'Biceps', 'Forearm',\n",
       "       'Wrist'],\n",
       "      dtype='object')"
      ]
     },
     "execution_count": 141,
     "metadata": {},
     "output_type": "execute_result"
    }
   ],
   "source": [
    "df.columns"
   ]
  },
  {
   "cell_type": "markdown",
   "id": "0ee4afd1",
   "metadata": {},
   "source": [
    "### 9- Thigh"
   ]
  },
  {
   "cell_type": "code",
   "execution_count": 142,
   "id": "a9b67a12",
   "metadata": {},
   "outputs": [
    {
     "data": {
      "text/plain": [
       "47.2    1\n",
       "49.3    1\n",
       "49.6    1\n",
       "50.0    2\n",
       "50.1    2\n",
       "       ..\n",
       "71.2    2\n",
       "72.5    1\n",
       "72.9    1\n",
       "74.4    1\n",
       "87.3    1\n",
       "Name: Thigh, Length: 139, dtype: int64"
      ]
     },
     "execution_count": 142,
     "metadata": {},
     "output_type": "execute_result"
    }
   ],
   "source": [
    "df.Thigh.value_counts().sort_index()"
   ]
  },
  {
   "cell_type": "code",
   "execution_count": 143,
   "id": "8a929efb",
   "metadata": {},
   "outputs": [
    {
     "data": {
      "text/plain": [
       "count    252.000000\n",
       "mean      59.405952\n",
       "std        5.249952\n",
       "min       47.200000\n",
       "25%       56.000000\n",
       "50%       59.000000\n",
       "75%       62.350000\n",
       "max       87.300000\n",
       "Name: Thigh, dtype: float64"
      ]
     },
     "execution_count": 143,
     "metadata": {},
     "output_type": "execute_result"
    }
   ],
   "source": [
    "df.Thigh.describe()"
   ]
  },
  {
   "cell_type": "code",
   "execution_count": 144,
   "id": "b9406f16",
   "metadata": {},
   "outputs": [
    {
     "data": {
      "text/plain": [
       "0"
      ]
     },
     "execution_count": 144,
     "metadata": {},
     "output_type": "execute_result"
    }
   ],
   "source": [
    "df.Thigh.isnull().sum()"
   ]
  },
  {
   "cell_type": "code",
   "execution_count": 145,
   "id": "9317a698",
   "metadata": {},
   "outputs": [
    {
     "name": "stderr",
     "output_type": "stream",
     "text": [
      "C:\\ProgramData\\Anaconda3\\lib\\site-packages\\seaborn\\distributions.py:2557: FutureWarning: `distplot` is a deprecated function and will be removed in a future version. Please adapt your code to use either `displot` (a figure-level function with similar flexibility) or `histplot` (an axes-level function for histograms).\n",
      "  warnings.warn(msg, FutureWarning)\n"
     ]
    },
    {
     "data": {
      "text/plain": [
       "Text(0.5, 1.0, 'Histogram of Thigh')"
      ]
     },
     "execution_count": 145,
     "metadata": {},
     "output_type": "execute_result"
    },
    {
     "data": {
      "image/png": "[encoded data removed]",
      "text/plain": [
       "<Figure size 432x288 with 1 Axes>"
      ]
     },
     "metadata": {
      "needs_background": "light"
     },
     "output_type": "display_data"
    }
   ],
   "source": [
    "#Histogram\n",
    "sns.distplot(df.Thigh, color = 'red')\n",
    "plt.xlabel('Thigh')\n",
    "plt.title('Histogram of Thigh')"
   ]
  },
  {
   "cell_type": "code",
   "execution_count": 146,
   "id": "dba0a1ac",
   "metadata": {},
   "outputs": [
    {
     "data": {
      "text/plain": [
       "Text(0.5, 1.0, 'Boxplot of Thigh')"
      ]
     },
     "execution_count": 146,
     "metadata": {},
     "output_type": "execute_result"
    },
    {
     "data": {
      "image/png": "[encoded data removed]",
      "text/plain": [
       "<Figure size 432x288 with 1 Axes>"
      ]
     },
     "metadata": {
      "needs_background": "light"
     },
     "output_type": "display_data"
    }
   ],
   "source": [
    "#Boxplot\n",
    "plt.boxplot(df['Thigh'],1,'rs',1)\n",
    "plt.xlabel('Thigh')\n",
    "plt.ylabel('counts')\n",
    "plt.title('Boxplot of Thigh')"
   ]
  },
  {
   "cell_type": "code",
   "execution_count": 147,
   "id": "38aa79f0",
   "metadata": {},
   "outputs": [
    {
     "data": {
      "text/plain": [
       "6.349999999999994"
      ]
     },
     "execution_count": 147,
     "metadata": {},
     "output_type": "execute_result"
    }
   ],
   "source": [
    "# Outliers Count\n",
    "IQR9 = df['Thigh'].quantile(0.75) - df['Thigh'].quantile(0.25)\n",
    "IQR9"
   ]
  },
  {
   "cell_type": "code",
   "execution_count": 148,
   "id": "cec614a4",
   "metadata": {},
   "outputs": [
    {
     "data": {
      "text/plain": [
       "71.87499999999999"
      ]
     },
     "execution_count": 148,
     "metadata": {},
     "output_type": "execute_result"
    }
   ],
   "source": [
    "UL9 = df['Thigh'].quantile(0.75) + (1.5*IQR9)\n",
    "UL9"
   ]
  },
  {
   "cell_type": "code",
   "execution_count": 149,
   "id": "f080e0dd",
   "metadata": {},
   "outputs": [
    {
     "data": {
      "text/plain": [
       "4"
      ]
     },
     "execution_count": 149,
     "metadata": {},
     "output_type": "execute_result"
    }
   ],
   "source": [
    "df.Thigh[(df.Thigh > UL9)].value_counts().sum()"
   ]
  },
  {
   "cell_type": "code",
   "execution_count": 150,
   "id": "a4a5f1aa",
   "metadata": {},
   "outputs": [],
   "source": [
    "df.Thigh = np.where(df.Thigh > UL9, UL9, df.Thigh)"
   ]
  },
  {
   "cell_type": "code",
   "execution_count": 151,
   "id": "fc9fd7de",
   "metadata": {},
   "outputs": [
    {
     "data": {
      "text/plain": [
       "0"
      ]
     },
     "execution_count": 151,
     "metadata": {},
     "output_type": "execute_result"
    }
   ],
   "source": [
    "df.Thigh[(df.Thigh > UL9)].value_counts().sum()"
   ]
  },
  {
   "cell_type": "code",
   "execution_count": 152,
   "id": "7ee24452",
   "metadata": {},
   "outputs": [
    {
     "data": {
      "text/plain": [
       "Text(0.5, 1.0, 'Boxplot of Thigh')"
      ]
     },
     "execution_count": 152,
     "metadata": {},
     "output_type": "execute_result"
    },
    {
     "data": {
      "image/png": "[encoded data removed]",
      "text/plain": [
       "<Figure size 432x288 with 1 Axes>"
      ]
     },
     "metadata": {
      "needs_background": "light"
     },
     "output_type": "display_data"
    }
   ],
   "source": [
    "#Boxplot after treatment\n",
    "plt.boxplot(df['Thigh'],1,'rs',1)\n",
    "plt.xlabel('Thigh')\n",
    "plt.ylabel('counts')\n",
    "plt.title('Boxplot of Thigh')"
   ]
  },
  {
   "cell_type": "code",
   "execution_count": 153,
   "id": "db4aa6bc",
   "metadata": {},
   "outputs": [
    {
     "data": {
      "text/html": [
       "<div>\n",
       "<style scoped>\n",
       "    .dataframe tbody tr th:only-of-type {\n",
       "        vertical-align: middle;\n",
       "    }\n",
       "\n",
       "    .dataframe tbody tr th {\n",
       "        vertical-align: top;\n",
       "    }\n",
       "\n",
       "    .dataframe thead th {\n",
       "        text-align: right;\n",
       "    }\n",
       "</style>\n",
       "<table border=\"1\" class=\"dataframe\">\n",
       "  <thead>\n",
       "    <tr style=\"text-align: right;\">\n",
       "      <th></th>\n",
       "      <th>df</th>\n",
       "      <th>sum_sq</th>\n",
       "      <th>mean_sq</th>\n",
       "      <th>F</th>\n",
       "      <th>PR(&gt;F)</th>\n",
       "    </tr>\n",
       "  </thead>\n",
       "  <tbody>\n",
       "    <tr>\n",
       "      <th>BodyFat</th>\n",
       "      <td>1.0</td>\n",
       "      <td>1975.328587</td>\n",
       "      <td>1975.328587</td>\n",
       "      <td>117.392544</td>\n",
       "      <td>1.116589e-22</td>\n",
       "    </tr>\n",
       "    <tr>\n",
       "      <th>Residual</th>\n",
       "      <td>250.0</td>\n",
       "      <td>4206.673874</td>\n",
       "      <td>16.826695</td>\n",
       "      <td>NaN</td>\n",
       "      <td>NaN</td>\n",
       "    </tr>\n",
       "  </tbody>\n",
       "</table>\n",
       "</div>"
      ],
      "text/plain": [
       "             df       sum_sq      mean_sq           F        PR(>F)\n",
       "BodyFat     1.0  1975.328587  1975.328587  117.392544  1.116589e-22\n",
       "Residual  250.0  4206.673874    16.826695         NaN           NaN"
      ]
     },
     "execution_count": 153,
     "metadata": {},
     "output_type": "execute_result"
    }
   ],
   "source": [
    "mod6=ols(\"Thigh~BodyFat\",data=df).fit()\n",
    "sm.stats.anova_lm(mod6)"
   ]
  },
  {
   "cell_type": "markdown",
   "id": "bd3b6883",
   "metadata": {},
   "source": [
    "### here p value=1.116589e-22,it is less than 0.05.hence it is good predictor."
   ]
  },
  {
   "cell_type": "code",
   "execution_count": 154,
   "id": "c8c4a6a7",
   "metadata": {},
   "outputs": [
    {
     "data": {
      "text/plain": [
       "Index(['Density', 'BodyFat', 'Age', 'Weight', 'Height', 'Neck', 'Chest',\n",
       "       'Abdomen', 'Hip', 'Thigh', 'Knee', 'Ankle', 'Biceps', 'Forearm',\n",
       "       'Wrist'],\n",
       "      dtype='object')"
      ]
     },
     "execution_count": 154,
     "metadata": {},
     "output_type": "execute_result"
    }
   ],
   "source": [
    "df.columns"
   ]
  },
  {
   "cell_type": "markdown",
   "id": "cb57f2e1",
   "metadata": {},
   "source": [
    "### 10- Knee"
   ]
  },
  {
   "cell_type": "code",
   "execution_count": 155,
   "id": "508f938b",
   "metadata": {},
   "outputs": [
    {
     "data": {
      "text/plain": [
       "33.0    1\n",
       "33.4    1\n",
       "33.5    1\n",
       "33.7    1\n",
       "34.2    1\n",
       "       ..\n",
       "44.0    1\n",
       "44.2    1\n",
       "45.0    1\n",
       "46.0    1\n",
       "49.1    1\n",
       "Name: Knee, Length: 90, dtype: int64"
      ]
     },
     "execution_count": 155,
     "metadata": {},
     "output_type": "execute_result"
    }
   ],
   "source": [
    "df.Knee.value_counts().sort_index()"
   ]
  },
  {
   "cell_type": "code",
   "execution_count": 156,
   "id": "d71c86dc",
   "metadata": {},
   "outputs": [
    {
     "data": {
      "text/plain": [
       "count    252.000000\n",
       "mean      38.590476\n",
       "std        2.411805\n",
       "min       33.000000\n",
       "25%       36.975000\n",
       "50%       38.500000\n",
       "75%       39.925000\n",
       "max       49.100000\n",
       "Name: Knee, dtype: float64"
      ]
     },
     "execution_count": 156,
     "metadata": {},
     "output_type": "execute_result"
    }
   ],
   "source": [
    "df.Knee.describe()"
   ]
  },
  {
   "cell_type": "code",
   "execution_count": 157,
   "id": "140bfd9d",
   "metadata": {},
   "outputs": [
    {
     "data": {
      "text/plain": [
       "0"
      ]
     },
     "execution_count": 157,
     "metadata": {},
     "output_type": "execute_result"
    }
   ],
   "source": [
    "df.Knee.isnull().sum()"
   ]
  },
  {
   "cell_type": "code",
   "execution_count": 158,
   "id": "d2a01148",
   "metadata": {},
   "outputs": [
    {
     "name": "stderr",
     "output_type": "stream",
     "text": [
      "C:\\ProgramData\\Anaconda3\\lib\\site-packages\\seaborn\\distributions.py:2557: FutureWarning: `distplot` is a deprecated function and will be removed in a future version. Please adapt your code to use either `displot` (a figure-level function with similar flexibility) or `histplot` (an axes-level function for histograms).\n",
      "  warnings.warn(msg, FutureWarning)\n"
     ]
    },
    {
     "data": {
      "text/plain": [
       "Text(0.5, 1.0, 'Histogram of Knee')"
      ]
     },
     "execution_count": 158,
     "metadata": {},
     "output_type": "execute_result"
    },
    {
     "data": {
      "image/png": "[encoded data removed]",
      "text/plain": [
       "<Figure size 432x288 with 1 Axes>"
      ]
     },
     "metadata": {
      "needs_background": "light"
     },
     "output_type": "display_data"
    }
   ],
   "source": [
    "#Histogram\n",
    "sns.distplot(df.Knee, color = 'red')\n",
    "plt.xlabel('Knee')\n",
    "plt.title('Histogram of Knee')"
   ]
  },
  {
   "cell_type": "code",
   "execution_count": 159,
   "id": "8f68f37a",
   "metadata": {},
   "outputs": [
    {
     "data": {
      "text/plain": [
       "Text(0.5, 1.0, 'Boxplot of Knee')"
      ]
     },
     "execution_count": 159,
     "metadata": {},
     "output_type": "execute_result"
    },
    {
     "data": {
      "image/png": "[encoded data removed]",
      "text/plain": [
       "<Figure size 432x288 with 1 Axes>"
      ]
     },
     "metadata": {
      "needs_background": "light"
     },
     "output_type": "display_data"
    }
   ],
   "source": [
    "#Boxplot\n",
    "plt.boxplot(df['Knee'],1,'rs',1)\n",
    "plt.xlabel('Knee')\n",
    "plt.ylabel('counts')\n",
    "plt.title('Boxplot of Knee')"
   ]
  },
  {
   "cell_type": "code",
   "execution_count": 160,
   "id": "6dfe8e37",
   "metadata": {},
   "outputs": [
    {
     "data": {
      "text/plain": [
       "2.9499999999999957"
      ]
     },
     "execution_count": 160,
     "metadata": {},
     "output_type": "execute_result"
    }
   ],
   "source": [
    "# Outliers Count\n",
    "IQR10 = df['Knee'].quantile(0.75) - df['Knee'].quantile(0.25)\n",
    "IQR10"
   ]
  },
  {
   "cell_type": "code",
   "execution_count": 161,
   "id": "e643bdd4",
   "metadata": {},
   "outputs": [
    {
     "data": {
      "text/plain": [
       "44.349999999999994"
      ]
     },
     "execution_count": 161,
     "metadata": {},
     "output_type": "execute_result"
    }
   ],
   "source": [
    "UL10 = df['Knee'].quantile(0.75) + (1.5*IQR10)\n",
    "UL10"
   ]
  },
  {
   "cell_type": "code",
   "execution_count": 162,
   "id": "cfa926aa",
   "metadata": {},
   "outputs": [
    {
     "data": {
      "text/plain": [
       "3"
      ]
     },
     "execution_count": 162,
     "metadata": {},
     "output_type": "execute_result"
    }
   ],
   "source": [
    "df.Knee[(df.Knee > UL10)].value_counts().sum()"
   ]
  },
  {
   "cell_type": "code",
   "execution_count": 163,
   "id": "37b2aecd",
   "metadata": {},
   "outputs": [],
   "source": [
    "df.Knee = np.where(df.Knee > UL10, UL10, df.Knee)"
   ]
  },
  {
   "cell_type": "code",
   "execution_count": 164,
   "id": "faffcac3",
   "metadata": {},
   "outputs": [
    {
     "data": {
      "text/plain": [
       "0"
      ]
     },
     "execution_count": 164,
     "metadata": {},
     "output_type": "execute_result"
    }
   ],
   "source": [
    "df.Knee[(df.Knee > UL10)].value_counts().sum()"
   ]
  },
  {
   "cell_type": "code",
   "execution_count": 165,
   "id": "d30a5a1a",
   "metadata": {},
   "outputs": [
    {
     "data": {
      "text/plain": [
       "Text(0.5, 1.0, 'Boxplot of Knee')"
      ]
     },
     "execution_count": 165,
     "metadata": {},
     "output_type": "execute_result"
    },
    {
     "data": {
      "image/png": "[encoded data removed]",
      "text/plain": [
       "<Figure size 432x288 with 1 Axes>"
      ]
     },
     "metadata": {
      "needs_background": "light"
     },
     "output_type": "display_data"
    }
   ],
   "source": [
    "#Boxplot after treatment\n",
    "plt.boxplot(df['Knee'],1,'rs',1)\n",
    "plt.xlabel('Knee')\n",
    "plt.ylabel('counts')\n",
    "plt.title('Boxplot of Knee')"
   ]
  },
  {
   "cell_type": "code",
   "execution_count": 166,
   "id": "8bad21b8",
   "metadata": {},
   "outputs": [
    {
     "data": {
      "text/html": [
       "<div>\n",
       "<style scoped>\n",
       "    .dataframe tbody tr th:only-of-type {\n",
       "        vertical-align: middle;\n",
       "    }\n",
       "\n",
       "    .dataframe tbody tr th {\n",
       "        vertical-align: top;\n",
       "    }\n",
       "\n",
       "    .dataframe thead th {\n",
       "        text-align: right;\n",
       "    }\n",
       "</style>\n",
       "<table border=\"1\" class=\"dataframe\">\n",
       "  <thead>\n",
       "    <tr style=\"text-align: right;\">\n",
       "      <th></th>\n",
       "      <th>df</th>\n",
       "      <th>sum_sq</th>\n",
       "      <th>mean_sq</th>\n",
       "      <th>F</th>\n",
       "      <th>PR(&gt;F)</th>\n",
       "    </tr>\n",
       "  </thead>\n",
       "  <tbody>\n",
       "    <tr>\n",
       "      <th>BodyFat</th>\n",
       "      <td>1.0</td>\n",
       "      <td>323.623874</td>\n",
       "      <td>323.623874</td>\n",
       "      <td>80.410305</td>\n",
       "      <td>7.328353e-17</td>\n",
       "    </tr>\n",
       "    <tr>\n",
       "      <th>Residual</th>\n",
       "      <td>250.0</td>\n",
       "      <td>1006.164183</td>\n",
       "      <td>4.024657</td>\n",
       "      <td>NaN</td>\n",
       "      <td>NaN</td>\n",
       "    </tr>\n",
       "  </tbody>\n",
       "</table>\n",
       "</div>"
      ],
      "text/plain": [
       "             df       sum_sq     mean_sq          F        PR(>F)\n",
       "BodyFat     1.0   323.623874  323.623874  80.410305  7.328353e-17\n",
       "Residual  250.0  1006.164183    4.024657        NaN           NaN"
      ]
     },
     "execution_count": 166,
     "metadata": {},
     "output_type": "execute_result"
    }
   ],
   "source": [
    "mod8=ols(\"Knee~BodyFat\",data=df).fit()\n",
    "sm.stats.anova_lm(mod4)"
   ]
  },
  {
   "cell_type": "markdown",
   "id": "52a5eb0a",
   "metadata": {},
   "source": [
    "### here p value=7.328353e-17,it is less than 0.05,it is good predictor."
   ]
  },
  {
   "cell_type": "code",
   "execution_count": 167,
   "id": "e5b1362f",
   "metadata": {},
   "outputs": [
    {
     "data": {
      "text/plain": [
       "Index(['Density', 'BodyFat', 'Age', 'Weight', 'Height', 'Neck', 'Chest',\n",
       "       'Abdomen', 'Hip', 'Thigh', 'Knee', 'Ankle', 'Biceps', 'Forearm',\n",
       "       'Wrist'],\n",
       "      dtype='object')"
      ]
     },
     "execution_count": 167,
     "metadata": {},
     "output_type": "execute_result"
    }
   ],
   "source": [
    "df.columns"
   ]
  },
  {
   "cell_type": "markdown",
   "id": "0e496ded",
   "metadata": {},
   "source": [
    "### 11- Ankle"
   ]
  },
  {
   "cell_type": "code",
   "execution_count": 168,
   "id": "43ca75b5",
   "metadata": {},
   "outputs": [
    {
     "data": {
      "text/plain": [
       "19.1    1\n",
       "19.7    1\n",
       "20.1    1\n",
       "20.2    1\n",
       "20.4    2\n",
       "       ..\n",
       "26.6    1\n",
       "27.0    1\n",
       "29.6    1\n",
       "33.7    1\n",
       "33.9    1\n",
       "Name: Ankle, Length: 61, dtype: int64"
      ]
     },
     "execution_count": 168,
     "metadata": {},
     "output_type": "execute_result"
    }
   ],
   "source": [
    "df.Ankle.value_counts().sort_index()"
   ]
  },
  {
   "cell_type": "code",
   "execution_count": 169,
   "id": "bb8967f9",
   "metadata": {},
   "outputs": [
    {
     "data": {
      "text/plain": [
       "count    252.000000\n",
       "mean      23.102381\n",
       "std        1.694893\n",
       "min       19.100000\n",
       "25%       22.000000\n",
       "50%       22.800000\n",
       "75%       24.000000\n",
       "max       33.900000\n",
       "Name: Ankle, dtype: float64"
      ]
     },
     "execution_count": 169,
     "metadata": {},
     "output_type": "execute_result"
    }
   ],
   "source": [
    "df.Ankle.describe()"
   ]
  },
  {
   "cell_type": "code",
   "execution_count": 170,
   "id": "ae74aa47",
   "metadata": {},
   "outputs": [
    {
     "data": {
      "text/plain": [
       "0"
      ]
     },
     "execution_count": 170,
     "metadata": {},
     "output_type": "execute_result"
    }
   ],
   "source": [
    "df.Ankle.isnull().sum()"
   ]
  },
  {
   "cell_type": "code",
   "execution_count": 171,
   "id": "de40ee6e",
   "metadata": {},
   "outputs": [
    {
     "name": "stderr",
     "output_type": "stream",
     "text": [
      "C:\\ProgramData\\Anaconda3\\lib\\site-packages\\seaborn\\distributions.py:2557: FutureWarning: `distplot` is a deprecated function and will be removed in a future version. Please adapt your code to use either `displot` (a figure-level function with similar flexibility) or `histplot` (an axes-level function for histograms).\n",
      "  warnings.warn(msg, FutureWarning)\n"
     ]
    },
    {
     "data": {
      "text/plain": [
       "Text(0.5, 1.0, 'Histogram of Ankle')"
      ]
     },
     "execution_count": 171,
     "metadata": {},
     "output_type": "execute_result"
    },
    {
     "data": {
      "image/png": "[encoded data removed]",
      "text/plain": [
       "<Figure size 432x288 with 1 Axes>"
      ]
     },
     "metadata": {
      "needs_background": "light"
     },
     "output_type": "display_data"
    }
   ],
   "source": [
    "#Histogram\n",
    "sns.distplot(df.Ankle, color = 'red')\n",
    "plt.xlabel('Ankle')\n",
    "plt.title('Histogram of Ankle')"
   ]
  },
  {
   "cell_type": "code",
   "execution_count": 172,
   "id": "ee2fd8f8",
   "metadata": {},
   "outputs": [
    {
     "data": {
      "text/plain": [
       "Text(0.5, 1.0, 'Boxplot of Ankle')"
      ]
     },
     "execution_count": 172,
     "metadata": {},
     "output_type": "execute_result"
    },
    {
     "data": {
      "image/png": "[encoded data removed]",
      "text/plain": [
       "<Figure size 432x288 with 1 Axes>"
      ]
     },
     "metadata": {
      "needs_background": "light"
     },
     "output_type": "display_data"
    }
   ],
   "source": [
    "#Boxplot\n",
    "plt.boxplot(df['Ankle'],1,'rs',1)\n",
    "plt.xlabel('Ankle')\n",
    "plt.ylabel('counts')\n",
    "plt.title('Boxplot of Ankle')"
   ]
  },
  {
   "cell_type": "code",
   "execution_count": 173,
   "id": "bfcdc7f4",
   "metadata": {},
   "outputs": [
    {
     "data": {
      "text/plain": [
       "2.0"
      ]
     },
     "execution_count": 173,
     "metadata": {},
     "output_type": "execute_result"
    }
   ],
   "source": [
    "# Outliers Count\n",
    "IQR11= df['Ankle'].quantile(0.75) - df['Ankle'].quantile(0.25)\n",
    "IQR11"
   ]
  },
  {
   "cell_type": "code",
   "execution_count": 174,
   "id": "989674d0",
   "metadata": {},
   "outputs": [
    {
     "data": {
      "text/plain": [
       "27.0"
      ]
     },
     "execution_count": 174,
     "metadata": {},
     "output_type": "execute_result"
    }
   ],
   "source": [
    "UL11 = df['Ankle'].quantile(0.75) + (1.5*IQR11)\n",
    "UL11"
   ]
  },
  {
   "cell_type": "code",
   "execution_count": 175,
   "id": "dee257be",
   "metadata": {},
   "outputs": [
    {
     "data": {
      "text/plain": [
       "3"
      ]
     },
     "execution_count": 175,
     "metadata": {},
     "output_type": "execute_result"
    }
   ],
   "source": [
    "df.Ankle[(df.Ankle > UL11)].value_counts().sum()"
   ]
  },
  {
   "cell_type": "code",
   "execution_count": 176,
   "id": "164d2b9b",
   "metadata": {},
   "outputs": [],
   "source": [
    "df.Ankle = np.where(df.Ankle > UL11, UL11, df.Ankle)"
   ]
  },
  {
   "cell_type": "code",
   "execution_count": 177,
   "id": "adfaeca3",
   "metadata": {},
   "outputs": [
    {
     "data": {
      "text/plain": [
       "0"
      ]
     },
     "execution_count": 177,
     "metadata": {},
     "output_type": "execute_result"
    }
   ],
   "source": [
    "df.Ankle[(df.Ankle > UL11)].value_counts().sum()"
   ]
  },
  {
   "cell_type": "code",
   "execution_count": 178,
   "id": "6c1e9c94",
   "metadata": {},
   "outputs": [
    {
     "data": {
      "text/plain": [
       "Text(0.5, 1.0, 'Boxplot of Ankle')"
      ]
     },
     "execution_count": 178,
     "metadata": {},
     "output_type": "execute_result"
    },
    {
     "data": {
      "image/png": "[encoded data removed]",
      "text/plain": [
       "<Figure size 432x288 with 1 Axes>"
      ]
     },
     "metadata": {
      "needs_background": "light"
     },
     "output_type": "display_data"
    }
   ],
   "source": [
    "#Boxplot after treatment\n",
    "plt.boxplot(df['Ankle'],1,'rs',1)\n",
    "plt.xlabel('Ankle')\n",
    "plt.ylabel('counts')\n",
    "plt.title('Boxplot of Ankle')"
   ]
  },
  {
   "cell_type": "code",
   "execution_count": 181,
   "id": "da9b1129",
   "metadata": {},
   "outputs": [
    {
     "data": {
      "text/html": [
       "<div>\n",
       "<style scoped>\n",
       "    .dataframe tbody tr th:only-of-type {\n",
       "        vertical-align: middle;\n",
       "    }\n",
       "\n",
       "    .dataframe tbody tr th {\n",
       "        vertical-align: top;\n",
       "    }\n",
       "\n",
       "    .dataframe thead th {\n",
       "        text-align: right;\n",
       "    }\n",
       "</style>\n",
       "<table border=\"1\" class=\"dataframe\">\n",
       "  <thead>\n",
       "    <tr style=\"text-align: right;\">\n",
       "      <th></th>\n",
       "      <th>df</th>\n",
       "      <th>sum_sq</th>\n",
       "      <th>mean_sq</th>\n",
       "      <th>F</th>\n",
       "      <th>PR(&gt;F)</th>\n",
       "    </tr>\n",
       "  </thead>\n",
       "  <tbody>\n",
       "    <tr>\n",
       "      <th>BodyFat</th>\n",
       "      <td>1.0</td>\n",
       "      <td>46.875563</td>\n",
       "      <td>46.875563</td>\n",
       "      <td>26.182859</td>\n",
       "      <td>6.192960e-07</td>\n",
       "    </tr>\n",
       "    <tr>\n",
       "      <th>Residual</th>\n",
       "      <td>250.0</td>\n",
       "      <td>447.578723</td>\n",
       "      <td>1.790315</td>\n",
       "      <td>NaN</td>\n",
       "      <td>NaN</td>\n",
       "    </tr>\n",
       "  </tbody>\n",
       "</table>\n",
       "</div>"
      ],
      "text/plain": [
       "             df      sum_sq    mean_sq          F        PR(>F)\n",
       "BodyFat     1.0   46.875563  46.875563  26.182859  6.192960e-07\n",
       "Residual  250.0  447.578723   1.790315        NaN           NaN"
      ]
     },
     "execution_count": 181,
     "metadata": {},
     "output_type": "execute_result"
    }
   ],
   "source": [
    "mod11=ols(\"Ankle~BodyFat\",data=df).fit()\n",
    "sm.stats.anova_lm(mod11)"
   ]
  },
  {
   "cell_type": "markdown",
   "id": "b1af340d",
   "metadata": {},
   "source": [
    "#### here p value=6.192960e-07,it is less than 0.05.hence it is good predictor."
   ]
  },
  {
   "cell_type": "code",
   "execution_count": 180,
   "id": "220e96f9",
   "metadata": {},
   "outputs": [
    {
     "data": {
      "text/plain": [
       "Index(['Density', 'BodyFat', 'Age', 'Weight', 'Height', 'Neck', 'Chest',\n",
       "       'Abdomen', 'Hip', 'Thigh', 'Knee', 'Ankle', 'Biceps', 'Forearm',\n",
       "       'Wrist'],\n",
       "      dtype='object')"
      ]
     },
     "execution_count": 180,
     "metadata": {},
     "output_type": "execute_result"
    }
   ],
   "source": [
    "df.columns"
   ]
  },
  {
   "cell_type": "markdown",
   "id": "86b5f537",
   "metadata": {},
   "source": [
    "### 12-Biceps"
   ]
  },
  {
   "cell_type": "code",
   "execution_count": 182,
   "id": "9dfc55d0",
   "metadata": {},
   "outputs": [
    {
     "data": {
      "text/plain": [
       "24.8    1\n",
       "25.3    1\n",
       "25.6    1\n",
       "25.8    1\n",
       "26.0    1\n",
       "       ..\n",
       "38.2    1\n",
       "38.4    1\n",
       "38.5    2\n",
       "39.1    1\n",
       "45.0    1\n",
       "Name: Biceps, Length: 104, dtype: int64"
      ]
     },
     "execution_count": 182,
     "metadata": {},
     "output_type": "execute_result"
    }
   ],
   "source": [
    "df.Biceps.value_counts().sort_index()"
   ]
  },
  {
   "cell_type": "code",
   "execution_count": 183,
   "id": "70813d77",
   "metadata": {},
   "outputs": [
    {
     "data": {
      "text/plain": [
       "count    252.000000\n",
       "mean      32.273413\n",
       "std        3.021274\n",
       "min       24.800000\n",
       "25%       30.200000\n",
       "50%       32.050000\n",
       "75%       34.325000\n",
       "max       45.000000\n",
       "Name: Biceps, dtype: float64"
      ]
     },
     "execution_count": 183,
     "metadata": {},
     "output_type": "execute_result"
    }
   ],
   "source": [
    "df.Biceps.describe()"
   ]
  },
  {
   "cell_type": "code",
   "execution_count": 184,
   "id": "807a9250",
   "metadata": {},
   "outputs": [
    {
     "data": {
      "text/plain": [
       "0"
      ]
     },
     "execution_count": 184,
     "metadata": {},
     "output_type": "execute_result"
    }
   ],
   "source": [
    "df.Biceps.isnull().sum()"
   ]
  },
  {
   "cell_type": "code",
   "execution_count": 185,
   "id": "dd5990f5",
   "metadata": {},
   "outputs": [
    {
     "name": "stderr",
     "output_type": "stream",
     "text": [
      "C:\\ProgramData\\Anaconda3\\lib\\site-packages\\seaborn\\distributions.py:2557: FutureWarning: `distplot` is a deprecated function and will be removed in a future version. Please adapt your code to use either `displot` (a figure-level function with similar flexibility) or `histplot` (an axes-level function for histograms).\n",
      "  warnings.warn(msg, FutureWarning)\n"
     ]
    },
    {
     "data": {
      "text/plain": [
       "Text(0.5, 1.0, 'Histogram of Biceps')"
      ]
     },
     "execution_count": 185,
     "metadata": {},
     "output_type": "execute_result"
    },
    {
     "data": {
      "image/png": "[encoded data removed]",
      "text/plain": [
       "<Figure size 432x288 with 1 Axes>"
      ]
     },
     "metadata": {
      "needs_background": "light"
     },
     "output_type": "display_data"
    }
   ],
   "source": [
    "#Histogram\n",
    "sns.distplot(df.Biceps, color = 'red')\n",
    "plt.xlabel('Biceps')\n",
    "plt.title('Histogram of Biceps')"
   ]
  },
  {
   "cell_type": "code",
   "execution_count": 186,
   "id": "1b46a290",
   "metadata": {},
   "outputs": [
    {
     "data": {
      "text/plain": [
       "Text(0.5, 1.0, 'Boxplot of Biceps')"
      ]
     },
     "execution_count": 186,
     "metadata": {},
     "output_type": "execute_result"
    },
    {
     "data": {
      "image/png": "[encoded data removed]",
      "text/plain": [
       "<Figure size 432x288 with 1 Axes>"
      ]
     },
     "metadata": {
      "needs_background": "light"
     },
     "output_type": "display_data"
    }
   ],
   "source": [
    "#Boxplot\n",
    "plt.boxplot(df['Biceps'],1,'rs',1)\n",
    "plt.xlabel('Biceps')\n",
    "plt.ylabel('counts')\n",
    "plt.title('Boxplot of Biceps')"
   ]
  },
  {
   "cell_type": "code",
   "execution_count": 187,
   "id": "05f1d228",
   "metadata": {},
   "outputs": [
    {
     "data": {
      "text/plain": [
       "4.1249999999999964"
      ]
     },
     "execution_count": 187,
     "metadata": {},
     "output_type": "execute_result"
    }
   ],
   "source": [
    "# Outliers Count\n",
    "IQR12 = df['Biceps'].quantile(0.75) - df['Biceps'].quantile(0.25)\n",
    "IQR12"
   ]
  },
  {
   "cell_type": "code",
   "execution_count": 188,
   "id": "20d88bd8",
   "metadata": {},
   "outputs": [
    {
     "data": {
      "text/plain": [
       "40.51249999999999"
      ]
     },
     "execution_count": 188,
     "metadata": {},
     "output_type": "execute_result"
    }
   ],
   "source": [
    "UL12 = df['Biceps'].quantile(0.75) + (1.5*IQR12)\n",
    "UL12"
   ]
  },
  {
   "cell_type": "code",
   "execution_count": 189,
   "id": "4b8c51bf",
   "metadata": {},
   "outputs": [
    {
     "data": {
      "text/plain": [
       "1"
      ]
     },
     "execution_count": 189,
     "metadata": {},
     "output_type": "execute_result"
    }
   ],
   "source": [
    "df.Biceps[(df.Biceps > UL12)].value_counts().sum()"
   ]
  },
  {
   "cell_type": "code",
   "execution_count": 190,
   "id": "1d9569f6",
   "metadata": {},
   "outputs": [],
   "source": [
    "df.Biceps = np.where(df.Biceps > UL12, UL12, df.Biceps)"
   ]
  },
  {
   "cell_type": "code",
   "execution_count": 191,
   "id": "5e596ef1",
   "metadata": {},
   "outputs": [
    {
     "data": {
      "text/plain": [
       "0"
      ]
     },
     "execution_count": 191,
     "metadata": {},
     "output_type": "execute_result"
    }
   ],
   "source": [
    "df.Biceps[(df.Biceps > UL12)].value_counts().sum()"
   ]
  },
  {
   "cell_type": "code",
   "execution_count": 192,
   "id": "ee6790e8",
   "metadata": {},
   "outputs": [
    {
     "data": {
      "text/plain": [
       "Text(0.5, 1.0, 'Boxplot of Biceps')"
      ]
     },
     "execution_count": 192,
     "metadata": {},
     "output_type": "execute_result"
    },
    {
     "data": {
      "image/png": "[encoded data removed]",
      "text/plain": [
       "<Figure size 432x288 with 1 Axes>"
      ]
     },
     "metadata": {
      "needs_background": "light"
     },
     "output_type": "display_data"
    }
   ],
   "source": [
    "#Boxplot after treatment\n",
    "plt.boxplot(df['Biceps'],1,'rs',1)\n",
    "plt.xlabel('Biceps')\n",
    "plt.ylabel('counts')\n",
    "plt.title('Boxplot of Biceps')"
   ]
  },
  {
   "cell_type": "code",
   "execution_count": 193,
   "id": "f5b2e2e7",
   "metadata": {},
   "outputs": [
    {
     "data": {
      "text/html": [
       "<div>\n",
       "<style scoped>\n",
       "    .dataframe tbody tr th:only-of-type {\n",
       "        vertical-align: middle;\n",
       "    }\n",
       "\n",
       "    .dataframe tbody tr th {\n",
       "        vertical-align: top;\n",
       "    }\n",
       "\n",
       "    .dataframe thead th {\n",
       "        text-align: right;\n",
       "    }\n",
       "</style>\n",
       "<table border=\"1\" class=\"dataframe\">\n",
       "  <thead>\n",
       "    <tr style=\"text-align: right;\">\n",
       "      <th></th>\n",
       "      <th>df</th>\n",
       "      <th>sum_sq</th>\n",
       "      <th>mean_sq</th>\n",
       "      <th>F</th>\n",
       "      <th>PR(&gt;F)</th>\n",
       "    </tr>\n",
       "  </thead>\n",
       "  <tbody>\n",
       "    <tr>\n",
       "      <th>BodyFat</th>\n",
       "      <td>1.0</td>\n",
       "      <td>534.443006</td>\n",
       "      <td>534.443006</td>\n",
       "      <td>80.365171</td>\n",
       "      <td>7.456103e-17</td>\n",
       "    </tr>\n",
       "    <tr>\n",
       "      <th>Residual</th>\n",
       "      <td>250.0</td>\n",
       "      <td>1662.545483</td>\n",
       "      <td>6.650182</td>\n",
       "      <td>NaN</td>\n",
       "      <td>NaN</td>\n",
       "    </tr>\n",
       "  </tbody>\n",
       "</table>\n",
       "</div>"
      ],
      "text/plain": [
       "             df       sum_sq     mean_sq          F        PR(>F)\n",
       "BodyFat     1.0   534.443006  534.443006  80.365171  7.456103e-17\n",
       "Residual  250.0  1662.545483    6.650182        NaN           NaN"
      ]
     },
     "execution_count": 193,
     "metadata": {},
     "output_type": "execute_result"
    }
   ],
   "source": [
    "mod12=ols(\"Biceps~BodyFat\",data=df).fit()\n",
    "sm.stats.anova_lm(mod12)"
   ]
  },
  {
   "cell_type": "markdown",
   "id": "48c5a985",
   "metadata": {},
   "source": [
    "#### here p value=7.456103e-17,it is less than 0.05.hence it is good predictor."
   ]
  },
  {
   "cell_type": "code",
   "execution_count": 194,
   "id": "c9945832",
   "metadata": {},
   "outputs": [
    {
     "data": {
      "text/plain": [
       "Index(['Density', 'BodyFat', 'Age', 'Weight', 'Height', 'Neck', 'Chest',\n",
       "       'Abdomen', 'Hip', 'Thigh', 'Knee', 'Ankle', 'Biceps', 'Forearm',\n",
       "       'Wrist'],\n",
       "      dtype='object')"
      ]
     },
     "execution_count": 194,
     "metadata": {},
     "output_type": "execute_result"
    }
   ],
   "source": [
    "df.columns"
   ]
  },
  {
   "cell_type": "markdown",
   "id": "50e5c0a5",
   "metadata": {},
   "source": [
    "### 13- Forearm"
   ]
  },
  {
   "cell_type": "code",
   "execution_count": 196,
   "id": "4662deaa",
   "metadata": {},
   "outputs": [
    {
     "data": {
      "text/plain": [
       "1    20\n",
       "3    17\n",
       "4    12\n",
       "5    10\n",
       "2     9\n",
       "6     4\n",
       "9     3\n",
       "7     2\n",
       "Name: Forearm, dtype: int64"
      ]
     },
     "execution_count": 196,
     "metadata": {},
     "output_type": "execute_result"
    }
   ],
   "source": [
    "df.Forearm.value_counts().value_counts()"
   ]
  },
  {
   "cell_type": "code",
   "execution_count": 197,
   "id": "7eda3f92",
   "metadata": {},
   "outputs": [
    {
     "data": {
      "text/plain": [
       "count    252.000000\n",
       "mean      28.663889\n",
       "std        2.020691\n",
       "min       21.000000\n",
       "25%       27.300000\n",
       "50%       28.700000\n",
       "75%       30.000000\n",
       "max       34.900000\n",
       "Name: Forearm, dtype: float64"
      ]
     },
     "execution_count": 197,
     "metadata": {},
     "output_type": "execute_result"
    }
   ],
   "source": [
    "df.Forearm.describe()"
   ]
  },
  {
   "cell_type": "code",
   "execution_count": 198,
   "id": "fa64f703",
   "metadata": {},
   "outputs": [
    {
     "data": {
      "text/plain": [
       "0"
      ]
     },
     "execution_count": 198,
     "metadata": {},
     "output_type": "execute_result"
    }
   ],
   "source": [
    "df.Forearm.isnull().sum()"
   ]
  },
  {
   "cell_type": "code",
   "execution_count": 199,
   "id": "629756f7",
   "metadata": {},
   "outputs": [
    {
     "name": "stderr",
     "output_type": "stream",
     "text": [
      "C:\\ProgramData\\Anaconda3\\lib\\site-packages\\seaborn\\distributions.py:2557: FutureWarning: `distplot` is a deprecated function and will be removed in a future version. Please adapt your code to use either `displot` (a figure-level function with similar flexibility) or `histplot` (an axes-level function for histograms).\n",
      "  warnings.warn(msg, FutureWarning)\n"
     ]
    },
    {
     "data": {
      "text/plain": [
       "Text(0.5, 1.0, 'Histogram of Forearm')"
      ]
     },
     "execution_count": 199,
     "metadata": {},
     "output_type": "execute_result"
    },
    {
     "data": {
      "image/png": "[encoded data removed]",
      "text/plain": [
       "<Figure size 432x288 with 1 Axes>"
      ]
     },
     "metadata": {
      "needs_background": "light"
     },
     "output_type": "display_data"
    }
   ],
   "source": [
    "#Histogram\n",
    "sns.distplot(df.Forearm, color = 'red')\n",
    "plt.xlabel('Forearm')\n",
    "plt.title('Histogram of Forearm')"
   ]
  },
  {
   "cell_type": "code",
   "execution_count": 200,
   "id": "17f24123",
   "metadata": {},
   "outputs": [
    {
     "data": {
      "text/html": [
       "<div>\n",
       "<style scoped>\n",
       "    .dataframe tbody tr th:only-of-type {\n",
       "        vertical-align: middle;\n",
       "    }\n",
       "\n",
       "    .dataframe tbody tr th {\n",
       "        vertical-align: top;\n",
       "    }\n",
       "\n",
       "    .dataframe thead th {\n",
       "        text-align: right;\n",
       "    }\n",
       "</style>\n",
       "<table border=\"1\" class=\"dataframe\">\n",
       "  <thead>\n",
       "    <tr style=\"text-align: right;\">\n",
       "      <th></th>\n",
       "      <th>df</th>\n",
       "      <th>sum_sq</th>\n",
       "      <th>mean_sq</th>\n",
       "      <th>F</th>\n",
       "      <th>PR(&gt;F)</th>\n",
       "    </tr>\n",
       "  </thead>\n",
       "  <tbody>\n",
       "    <tr>\n",
       "      <th>BodyFat</th>\n",
       "      <td>1.0</td>\n",
       "      <td>134.846048</td>\n",
       "      <td>134.846048</td>\n",
       "      <td>37.876599</td>\n",
       "      <td>2.978119e-09</td>\n",
       "    </tr>\n",
       "    <tr>\n",
       "      <th>Residual</th>\n",
       "      <td>250.0</td>\n",
       "      <td>890.035341</td>\n",
       "      <td>3.560141</td>\n",
       "      <td>NaN</td>\n",
       "      <td>NaN</td>\n",
       "    </tr>\n",
       "  </tbody>\n",
       "</table>\n",
       "</div>"
      ],
      "text/plain": [
       "             df      sum_sq     mean_sq          F        PR(>F)\n",
       "BodyFat     1.0  134.846048  134.846048  37.876599  2.978119e-09\n",
       "Residual  250.0  890.035341    3.560141        NaN           NaN"
      ]
     },
     "execution_count": 200,
     "metadata": {},
     "output_type": "execute_result"
    }
   ],
   "source": [
    "mod13=ols(\"Forearm~BodyFat\",data=df).fit()\n",
    "sm.stats.anova_lm(mod13)"
   ]
  },
  {
   "cell_type": "markdown",
   "id": "d02428a1",
   "metadata": {},
   "source": [
    "## here p value=2.978119e-09,it is less than 0.05.hence it is good predictor."
   ]
  },
  {
   "cell_type": "code",
   "execution_count": 201,
   "id": "d6c7a22f",
   "metadata": {},
   "outputs": [
    {
     "data": {
      "text/plain": [
       "Index(['Density', 'BodyFat', 'Age', 'Weight', 'Height', 'Neck', 'Chest',\n",
       "       'Abdomen', 'Hip', 'Thigh', 'Knee', 'Ankle', 'Biceps', 'Forearm',\n",
       "       'Wrist'],\n",
       "      dtype='object')"
      ]
     },
     "execution_count": 201,
     "metadata": {},
     "output_type": "execute_result"
    }
   ],
   "source": [
    "df.columns"
   ]
  },
  {
   "cell_type": "markdown",
   "id": "04f360df",
   "metadata": {},
   "source": [
    "### 14- Wrist"
   ]
  },
  {
   "cell_type": "code",
   "execution_count": 202,
   "id": "88c4be57",
   "metadata": {},
   "outputs": [
    {
     "data": {
      "text/plain": [
       "15.8     1\n",
       "16.1     1\n",
       "16.3     1\n",
       "16.5     5\n",
       "16.6     2\n",
       "16.7     2\n",
       "16.8     2\n",
       "16.9     9\n",
       "17.0     4\n",
       "17.1     6\n",
       "17.2     4\n",
       "17.3     9\n",
       "17.4    12\n",
       "17.5     1\n",
       "17.6    10\n",
       "17.7    15\n",
       "17.8     6\n",
       "17.9     6\n",
       "18.0     6\n",
       "18.1     9\n",
       "18.2    13\n",
       "18.3    11\n",
       "18.4    14\n",
       "18.5    16\n",
       "18.6     6\n",
       "18.7     8\n",
       "18.8    18\n",
       "18.9     3\n",
       "19.0    10\n",
       "19.1     7\n",
       "19.2     6\n",
       "19.3     1\n",
       "19.4     5\n",
       "19.5     4\n",
       "19.6     2\n",
       "19.7     3\n",
       "19.8     3\n",
       "19.9     3\n",
       "20.0     1\n",
       "20.1     2\n",
       "20.2     1\n",
       "20.4     1\n",
       "20.9     1\n",
       "21.4     2\n",
       "Name: Wrist, dtype: int64"
      ]
     },
     "execution_count": 202,
     "metadata": {},
     "output_type": "execute_result"
    }
   ],
   "source": [
    "df.Wrist.value_counts().sort_index()"
   ]
  },
  {
   "cell_type": "code",
   "execution_count": 203,
   "id": "4fd577c0",
   "metadata": {},
   "outputs": [
    {
     "data": {
      "text/plain": [
       "count    252.000000\n",
       "mean      18.229762\n",
       "std        0.933585\n",
       "min       15.800000\n",
       "25%       17.600000\n",
       "50%       18.300000\n",
       "75%       18.800000\n",
       "max       21.400000\n",
       "Name: Wrist, dtype: float64"
      ]
     },
     "execution_count": 203,
     "metadata": {},
     "output_type": "execute_result"
    }
   ],
   "source": [
    "df.Wrist.describe()"
   ]
  },
  {
   "cell_type": "code",
   "execution_count": 204,
   "id": "26455cf5",
   "metadata": {},
   "outputs": [
    {
     "data": {
      "text/plain": [
       "0"
      ]
     },
     "execution_count": 204,
     "metadata": {},
     "output_type": "execute_result"
    }
   ],
   "source": [
    "df.Wrist.isnull().sum()"
   ]
  },
  {
   "cell_type": "code",
   "execution_count": 205,
   "id": "923e04db",
   "metadata": {},
   "outputs": [
    {
     "name": "stderr",
     "output_type": "stream",
     "text": [
      "C:\\ProgramData\\Anaconda3\\lib\\site-packages\\seaborn\\distributions.py:2557: FutureWarning: `distplot` is a deprecated function and will be removed in a future version. Please adapt your code to use either `displot` (a figure-level function with similar flexibility) or `histplot` (an axes-level function for histograms).\n",
      "  warnings.warn(msg, FutureWarning)\n"
     ]
    },
    {
     "data": {
      "text/plain": [
       "Text(0.5, 1.0, 'Histogram of Wrist')"
      ]
     },
     "execution_count": 205,
     "metadata": {},
     "output_type": "execute_result"
    },
    {
     "data": {
      "image/png": "[encoded data removed]",
      "text/plain": [
       "<Figure size 432x288 with 1 Axes>"
      ]
     },
     "metadata": {
      "needs_background": "light"
     },
     "output_type": "display_data"
    }
   ],
   "source": [
    "#Histogram\n",
    "sns.distplot(df.Wrist, color = 'red')\n",
    "plt.xlabel('Wrist')\n",
    "plt.title('Histogram of Wrist')"
   ]
  },
  {
   "cell_type": "code",
   "execution_count": 206,
   "id": "833cc07a",
   "metadata": {},
   "outputs": [
    {
     "data": {
      "text/plain": [
       "Text(0.5, 1.0, 'Boxplot of Wrist')"
      ]
     },
     "execution_count": 206,
     "metadata": {},
     "output_type": "execute_result"
    },
    {
     "data": {
      "image/png": "[encoded data removed]",
      "text/plain": [
       "<Figure size 432x288 with 1 Axes>"
      ]
     },
     "metadata": {
      "needs_background": "light"
     },
     "output_type": "display_data"
    }
   ],
   "source": [
    "#Boxplot\n",
    "plt.boxplot(df['Wrist'],1,'rs',1)\n",
    "plt.xlabel('Wrist')\n",
    "plt.ylabel('counts')\n",
    "plt.title('Boxplot of Wrist')"
   ]
  },
  {
   "cell_type": "code",
   "execution_count": 207,
   "id": "bce821c3",
   "metadata": {},
   "outputs": [
    {
     "data": {
      "text/plain": [
       "1.1999999999999993"
      ]
     },
     "execution_count": 207,
     "metadata": {},
     "output_type": "execute_result"
    }
   ],
   "source": [
    "# Outliers Count\n",
    "IQR14 = df['Wrist'].quantile(0.75) - df['Wrist'].quantile(0.25)\n",
    "IQR14"
   ]
  },
  {
   "cell_type": "code",
   "execution_count": 208,
   "id": "f22808fb",
   "metadata": {},
   "outputs": [
    {
     "data": {
      "text/plain": [
       "20.6"
      ]
     },
     "execution_count": 208,
     "metadata": {},
     "output_type": "execute_result"
    }
   ],
   "source": [
    "UL14 = df['Wrist'].quantile(0.75) + (1.5*IQR14)\n",
    "UL14"
   ]
  },
  {
   "cell_type": "code",
   "execution_count": 209,
   "id": "d22b6540",
   "metadata": {},
   "outputs": [
    {
     "data": {
      "text/plain": [
       "15.800000000000002"
      ]
     },
     "execution_count": 209,
     "metadata": {},
     "output_type": "execute_result"
    }
   ],
   "source": [
    "LL14 = df['Wrist'].quantile(0.25) - (1.5*IQR14)\n",
    "LL14"
   ]
  },
  {
   "cell_type": "code",
   "execution_count": 210,
   "id": "460db6f3",
   "metadata": {},
   "outputs": [
    {
     "data": {
      "text/plain": [
       "3"
      ]
     },
     "execution_count": 210,
     "metadata": {},
     "output_type": "execute_result"
    }
   ],
   "source": [
    "df.Wrist[(df.Wrist > UL14)].value_counts().sum()"
   ]
  },
  {
   "cell_type": "code",
   "execution_count": 211,
   "id": "36a237c6",
   "metadata": {},
   "outputs": [
    {
     "data": {
      "text/plain": [
       "1"
      ]
     },
     "execution_count": 211,
     "metadata": {},
     "output_type": "execute_result"
    }
   ],
   "source": [
    "df.Wrist[(df.Wrist < LL14)].value_counts().sum()"
   ]
  },
  {
   "cell_type": "code",
   "execution_count": 212,
   "id": "9495f871",
   "metadata": {},
   "outputs": [],
   "source": [
    "df.Wrist = np.where(df.Wrist > UL14, UL14, df.Wrist)"
   ]
  },
  {
   "cell_type": "code",
   "execution_count": 213,
   "id": "2ae355ce",
   "metadata": {},
   "outputs": [],
   "source": [
    "df.Wrist = np.where(df.Wrist < LL14, LL14, df.Wrist)"
   ]
  },
  {
   "cell_type": "code",
   "execution_count": 214,
   "id": "7fabf4b2",
   "metadata": {},
   "outputs": [
    {
     "data": {
      "text/plain": [
       "0"
      ]
     },
     "execution_count": 214,
     "metadata": {},
     "output_type": "execute_result"
    }
   ],
   "source": [
    "df.Wrist[(df.Wrist > UL14)].value_counts().sum()"
   ]
  },
  {
   "cell_type": "code",
   "execution_count": 215,
   "id": "d0d1e0cf",
   "metadata": {},
   "outputs": [
    {
     "data": {
      "text/plain": [
       "0"
      ]
     },
     "execution_count": 215,
     "metadata": {},
     "output_type": "execute_result"
    }
   ],
   "source": [
    "df.Wrist[(df.Wrist < LL14)].value_counts().sum()"
   ]
  },
  {
   "cell_type": "code",
   "execution_count": 217,
   "id": "62b6c1e7",
   "metadata": {},
   "outputs": [
    {
     "data": {
      "text/plain": [
       "Text(0.5, 1.0, 'Boxplot of Wrist')"
      ]
     },
     "execution_count": 217,
     "metadata": {},
     "output_type": "execute_result"
    },
    {
     "data": {
      "image/png": "[encoded data removed]",
      "text/plain": [
       "<Figure size 432x288 with 1 Axes>"
      ]
     },
     "metadata": {
      "needs_background": "light"
     },
     "output_type": "display_data"
    }
   ],
   "source": [
    "#Boxplot after treatment\n",
    "plt.boxplot(df['Wrist'],1,'rs',1)\n",
    "plt.xlabel('Wrist')\n",
    "plt.ylabel('counts')\n",
    "plt.title('Boxplot of Wrist')"
   ]
  },
  {
   "cell_type": "code",
   "execution_count": 218,
   "id": "d96dbf24",
   "metadata": {},
   "outputs": [
    {
     "data": {
      "text/html": [
       "<div>\n",
       "<style scoped>\n",
       "    .dataframe tbody tr th:only-of-type {\n",
       "        vertical-align: middle;\n",
       "    }\n",
       "\n",
       "    .dataframe tbody tr th {\n",
       "        vertical-align: top;\n",
       "    }\n",
       "\n",
       "    .dataframe thead th {\n",
       "        text-align: right;\n",
       "    }\n",
       "</style>\n",
       "<table border=\"1\" class=\"dataframe\">\n",
       "  <thead>\n",
       "    <tr style=\"text-align: right;\">\n",
       "      <th></th>\n",
       "      <th>df</th>\n",
       "      <th>sum_sq</th>\n",
       "      <th>mean_sq</th>\n",
       "      <th>F</th>\n",
       "      <th>PR(&gt;F)</th>\n",
       "    </tr>\n",
       "  </thead>\n",
       "  <tbody>\n",
       "    <tr>\n",
       "      <th>BodyFat</th>\n",
       "      <td>1.0</td>\n",
       "      <td>24.267414</td>\n",
       "      <td>24.267414</td>\n",
       "      <td>32.952663</td>\n",
       "      <td>2.725880e-08</td>\n",
       "    </tr>\n",
       "    <tr>\n",
       "      <th>Residual</th>\n",
       "      <td>250.0</td>\n",
       "      <td>184.108141</td>\n",
       "      <td>0.736433</td>\n",
       "      <td>NaN</td>\n",
       "      <td>NaN</td>\n",
       "    </tr>\n",
       "  </tbody>\n",
       "</table>\n",
       "</div>"
      ],
      "text/plain": [
       "             df      sum_sq    mean_sq          F        PR(>F)\n",
       "BodyFat     1.0   24.267414  24.267414  32.952663  2.725880e-08\n",
       "Residual  250.0  184.108141   0.736433        NaN           NaN"
      ]
     },
     "execution_count": 218,
     "metadata": {},
     "output_type": "execute_result"
    }
   ],
   "source": [
    "mod14=ols(\"Wrist~BodyFat\",data=df).fit()\n",
    "sm.stats.anova_lm(mod14)"
   ]
  },
  {
   "cell_type": "markdown",
   "id": "fe01b038",
   "metadata": {},
   "source": [
    "### here p value=2.725880e-08,it is less than 0.05.hence it is good predictor."
   ]
  },
  {
   "cell_type": "code",
   "execution_count": 220,
   "id": "24ff6501",
   "metadata": {},
   "outputs": [],
   "source": [
    "fat.to_csv(\"C:/Users/91876/Desktop/Kaggle Individual/7_Body fat/Exported files\\\\EDA_FAT.csv\",index=True)"
   ]
  },
  {
   "cell_type": "code",
   "execution_count": null,
   "id": "bded5552",
   "metadata": {},
   "outputs": [],
   "source": []
  },
  {
   "cell_type": "code",
   "execution_count": null,
   "id": "14152375",
   "metadata": {},
   "outputs": [],
   "source": []
  },
  {
   "cell_type": "code",
   "execution_count": null,
   "id": "b8e57a87",
   "metadata": {},
   "outputs": [],
   "source": []
  },
  {
   "cell_type": "code",
   "execution_count": null,
   "id": "b51926ea",
   "metadata": {},
   "outputs": [],
   "source": []
  },
  {
   "cell_type": "code",
   "execution_count": null,
   "id": "cb3f5ae8",
   "metadata": {},
   "outputs": [],
   "source": []
  }
 ],
 "metadata": {
  "kernelspec": {
   "display_name": "Python 3",
   "language": "python",
   "name": "python3"
  },
  "language_info": {
   "codemirror_mode": {
    "name": "ipython",
    "version": 3
   },
   "file_extension": ".py",
   "mimetype": "text/x-python",
   "name": "python",
   "nbconvert_exporter": "python",
   "pygments_lexer": "ipython3",
   "version": "3.8.8"
  }
 },
 "nbformat": 4,
 "nbformat_minor": 5
}
